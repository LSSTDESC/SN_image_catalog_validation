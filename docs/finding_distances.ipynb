{
 "cells": [
  {
   "cell_type": "code",
   "execution_count": 1,
   "metadata": {},
   "outputs": [],
   "source": [
    "import os"
   ]
  },
  {
   "cell_type": "code",
   "execution_count": 2,
   "metadata": {},
   "outputs": [],
   "source": [
    "import numpy as np\n",
    "import pandas as pd\n",
    "import healpy as hp\n",
    "import GCRCatalogs"
   ]
  },
  {
   "cell_type": "code",
   "execution_count": 3,
   "metadata": {},
   "outputs": [],
   "source": [
    "from sqlalchemy import create_engine"
   ]
  },
  {
   "cell_type": "code",
   "execution_count": 4,
   "metadata": {},
   "outputs": [],
   "source": [
    "cat = GCRCatalogs.load_catalog('cosmoDC2_v1.1.4_image')\n",
    "cosmodc2_nside = 32"
   ]
  },
  {
   "cell_type": "code",
   "execution_count": 5,
   "metadata": {},
   "outputs": [],
   "source": [
    "path = '/global/projecta/projectdirs/lsst/groups/SSim/DC2/cosmoDC2_v1.1.4/sne_cosmoDC2_v1.1.4_MS_DDF.db'"
   ]
  },
  {
   "cell_type": "code",
   "execution_count": 6,
   "metadata": {},
   "outputs": [
    {
     "data": {
      "text/plain": [
       "'/global/projecta/projectdirs/lsst/groups/SSim/DC2/cosmoDC2_v1.1.4/sne_cosmoDC2_v1.1.4_MS_DDF.db'"
      ]
     },
     "execution_count": 6,
     "metadata": {},
     "output_type": "execute_result"
    }
   ],
   "source": [
    "os.path.join('sqlite:///', path)"
   ]
  },
  {
   "cell_type": "code",
   "execution_count": 7,
   "metadata": {},
   "outputs": [],
   "source": [
    "engine = create_engine('sqlite:///' + path)"
   ]
  },
  {
   "cell_type": "code",
   "execution_count": 8,
   "metadata": {},
   "outputs": [],
   "source": [
    "sndf = pd.read_sql_table('sne_params', con=engine)"
   ]
  },
  {
   "cell_type": "code",
   "execution_count": 9,
   "metadata": {},
   "outputs": [
    {
     "data": {
      "text/html": [
       "<div>\n",
       "<style scoped>\n",
       "    .dataframe tbody tr th:only-of-type {\n",
       "        vertical-align: middle;\n",
       "    }\n",
       "\n",
       "    .dataframe tbody tr th {\n",
       "        vertical-align: top;\n",
       "    }\n",
       "\n",
       "    .dataframe thead th {\n",
       "        text-align: right;\n",
       "    }\n",
       "</style>\n",
       "<table border=\"1\" class=\"dataframe\">\n",
       "  <thead>\n",
       "    <tr style=\"text-align: right;\">\n",
       "      <th></th>\n",
       "      <th>htmid_level_6</th>\n",
       "      <th>galaxy_id</th>\n",
       "      <th>c_in</th>\n",
       "      <th>mB</th>\n",
       "      <th>t0_in</th>\n",
       "      <th>x0_in</th>\n",
       "      <th>x1_in</th>\n",
       "      <th>z_in</th>\n",
       "      <th>snid_in</th>\n",
       "      <th>snra_in</th>\n",
       "      <th>sndec_in</th>\n",
       "    </tr>\n",
       "  </thead>\n",
       "  <tbody>\n",
       "    <tr>\n",
       "      <th>0</th>\n",
       "      <td>9021</td>\n",
       "      <td>10562502111</td>\n",
       "      <td>0.035201</td>\n",
       "      <td>18.516489</td>\n",
       "      <td>60772.368515</td>\n",
       "      <td>0.000617</td>\n",
       "      <td>1.477374</td>\n",
       "      <td>0.077278</td>\n",
       "      <td>MS_10199_0</td>\n",
       "      <td>66.115587</td>\n",
       "      <td>-40.866055</td>\n",
       "    </tr>\n",
       "    <tr>\n",
       "      <th>1</th>\n",
       "      <td>9023</td>\n",
       "      <td>10562500822</td>\n",
       "      <td>-0.086665</td>\n",
       "      <td>17.966773</td>\n",
       "      <td>63060.297448</td>\n",
       "      <td>0.001028</td>\n",
       "      <td>0.576378</td>\n",
       "      <td>0.073256</td>\n",
       "      <td>MS_10199_1</td>\n",
       "      <td>66.662435</td>\n",
       "      <td>-42.042877</td>\n",
       "    </tr>\n",
       "    <tr>\n",
       "      <th>2</th>\n",
       "      <td>9021</td>\n",
       "      <td>10562500735</td>\n",
       "      <td>0.037553</td>\n",
       "      <td>19.078334</td>\n",
       "      <td>62832.166508</td>\n",
       "      <td>0.000370</td>\n",
       "      <td>-0.177457</td>\n",
       "      <td>0.068469</td>\n",
       "      <td>MS_10199_2</td>\n",
       "      <td>65.212146</td>\n",
       "      <td>-41.416473</td>\n",
       "    </tr>\n",
       "    <tr>\n",
       "      <th>3</th>\n",
       "      <td>9021</td>\n",
       "      <td>10562502246</td>\n",
       "      <td>0.076715</td>\n",
       "      <td>19.192019</td>\n",
       "      <td>61400.008116</td>\n",
       "      <td>0.000335</td>\n",
       "      <td>-1.344205</td>\n",
       "      <td>0.080189</td>\n",
       "      <td>MS_10199_3</td>\n",
       "      <td>65.469824</td>\n",
       "      <td>-41.109646</td>\n",
       "    </tr>\n",
       "    <tr>\n",
       "      <th>4</th>\n",
       "      <td>9023</td>\n",
       "      <td>10562504918</td>\n",
       "      <td>-0.012653</td>\n",
       "      <td>19.388848</td>\n",
       "      <td>61342.657248</td>\n",
       "      <td>0.000278</td>\n",
       "      <td>0.474204</td>\n",
       "      <td>0.115499</td>\n",
       "      <td>MS_10199_5</td>\n",
       "      <td>65.986211</td>\n",
       "      <td>-42.086708</td>\n",
       "    </tr>\n",
       "  </tbody>\n",
       "</table>\n",
       "</div>"
      ],
      "text/plain": [
       "   htmid_level_6    galaxy_id      c_in         mB         t0_in     x0_in  \\\n",
       "0           9021  10562502111  0.035201  18.516489  60772.368515  0.000617   \n",
       "1           9023  10562500822 -0.086665  17.966773  63060.297448  0.001028   \n",
       "2           9021  10562500735  0.037553  19.078334  62832.166508  0.000370   \n",
       "3           9021  10562502246  0.076715  19.192019  61400.008116  0.000335   \n",
       "4           9023  10562504918 -0.012653  19.388848  61342.657248  0.000278   \n",
       "\n",
       "      x1_in      z_in     snid_in    snra_in   sndec_in  \n",
       "0  1.477374  0.077278  MS_10199_0  66.115587 -40.866055  \n",
       "1  0.576378  0.073256  MS_10199_1  66.662435 -42.042877  \n",
       "2 -0.177457  0.068469  MS_10199_2  65.212146 -41.416473  \n",
       "3 -1.344205  0.080189  MS_10199_3  65.469824 -41.109646  \n",
       "4  0.474204  0.115499  MS_10199_5  65.986211 -42.086708  "
      ]
     },
     "execution_count": 9,
     "metadata": {},
     "output_type": "execute_result"
    }
   ],
   "source": [
    "sndf.head()"
   ]
  },
  {
   "cell_type": "code",
   "execution_count": 12,
   "metadata": {},
   "outputs": [
    {
     "data": {
      "text/plain": [
       "['morphology/positionAngle',\n",
       " 'morphology/totalAxisRatio',\n",
       " 'morphology/diskMinorAxisArcsec',\n",
       " 'morphology/spheroidEllipticity2',\n",
       " 'morphology/spheroidHalfLightRadiusArcsec',\n",
       " 'morphology/spheroidMinorAxisArcsec',\n",
       " 'morphology/totalEllipticity',\n",
       " 'morphology/diskEllipticity1',\n",
       " 'morphology/diskHalfLightRadiusArcsec',\n",
       " 'morphology/diskHalfLightRadius',\n",
       " 'morphology/spheroidEllipticity',\n",
       " 'morphology/diskEllipticity',\n",
       " 'morphology/spheroidSersicIndex',\n",
       " 'morphology/totalEllipticity1',\n",
       " 'morphology/totalSersicIndex',\n",
       " 'morphology/totalEllipticity2',\n",
       " 'morphology/diskMajorAxisArcsec',\n",
       " 'morphology/spheroidAxisRatio',\n",
       " 'morphology/diskEllipticity2',\n",
       " 'morphology/spheroidHalfLightRadius',\n",
       " 'morphology/diskSersicIndex',\n",
       " 'morphology/diskAxisRatio',\n",
       " 'morphology/spheroidEllipticity1',\n",
       " 'morphology/spheroidMajorAxisArcsec']"
      ]
     },
     "execution_count": 12,
     "metadata": {},
     "output_type": "execute_result"
    }
   ],
   "source": [
    "list(x for x in cat.list_all_native_quantities() if 'morphology' in x)"
   ]
  },
  {
   "cell_type": "code",
   "execution_count": 10,
   "metadata": {},
   "outputs": [],
   "source": [
    "sndf = sndf.query('snra_in < 53.77 and snra_in > 52.479 and sndec_in < - 27.533 and sndec_in > -28.667')"
   ]
  },
  {
   "cell_type": "code",
   "execution_count": 11,
   "metadata": {},
   "outputs": [],
   "source": [
    "your_data = sndf.query('snra_in < 53.77 and snra_in > 52.479 and sndec_in < - 27.533 and sndec_in > -28.667')[['galaxy_id',  'snra_in', 'sndec_in', 'snid_in']].values"
   ]
  },
  {
   "cell_type": "code",
   "execution_count": 25,
   "metadata": {},
   "outputs": [
    {
     "data": {
      "text/plain": [
       "4607"
      ]
     },
     "execution_count": 25,
     "metadata": {},
     "output_type": "execute_result"
    }
   ],
   "source": [
    "len(your_data)"
   ]
  },
  {
   "cell_type": "code",
   "execution_count": 15,
   "metadata": {},
   "outputs": [],
   "source": [
    "# change these quantities as needed\n",
    "#your_data = [(9687500000, 62.58, -40.33), (10500000002, 62.32, -41.86)]\n",
    "quantities_needed = ['galaxy_id', 'ra', 'dec', 'mag_r', 'morphology/totalSersicIndex', 'morphology/spheroidHalfLightRadius', 'morphology/diskHalfLightRadius']"
   ]
  },
  {
   "cell_type": "code",
   "execution_count": 16,
   "metadata": {},
   "outputs": [
    {
     "ename": "NameError",
     "evalue": "name 'hbost_galaxy_props' is not defined",
     "output_type": "error",
     "traceback": [
      "\u001b[0;31m---------------------------------------------------------------------------\u001b[0m",
      "\u001b[0;31mNameError\u001b[0m                                 Traceback (most recent call last)",
      "\u001b[0;32m<ipython-input-16-fd2d53632eb8>\u001b[0m in \u001b[0;36m<module>\u001b[0;34m\u001b[0m\n\u001b[1;32m     19\u001b[0m         \u001b[0;31m# print('Cannot find host {} near ({}, {})'.format(host_id, sn_ra, sn_dec))\u001b[0m\u001b[0;34m\u001b[0m\u001b[0;34m\u001b[0m\u001b[0m\n\u001b[1;32m     20\u001b[0m \u001b[0;34m\u001b[0m\u001b[0m\n\u001b[0;32m---> 21\u001b[0;31m \u001b[0mhost_galaxy_props\u001b[0m \u001b[0;34m=\u001b[0m \u001b[0mpd\u001b[0m\u001b[0;34m.\u001b[0m\u001b[0mconcat\u001b[0m\u001b[0;34m(\u001b[0m\u001b[0mhbost_galaxy_props\u001b[0m\u001b[0;34m,\u001b[0m \u001b[0mignore_index\u001b[0m\u001b[0;34m=\u001b[0m\u001b[0;32mTrue\u001b[0m\u001b[0;34m)\u001b[0m\u001b[0;34m\u001b[0m\u001b[0m\n\u001b[0m",
      "\u001b[0;31mNameError\u001b[0m: name 'hbost_galaxy_props' is not defined"
     ]
    }
   ],
   "source": [
    "host_galaxy_props = []\n",
    "hostless_props = []\n",
    "for host_id, sn_ra, sn_dec, snid in your_data:\n",
    "    pixels = [hp.ang2pix(cosmodc2_nside, sn_ra, sn_dec, lonlat=True)]\n",
    "    pixels.extend(hp.get_all_neighbours(cosmodc2_nside, sn_ra, sn_dec, lonlat=True))\n",
    "    for pixel in pixels:\n",
    "        # remove 'redshift_block_lower == 0' in `native_filters` below if expecting high-z hosts\n",
    "        data = cat.get_quantities(\n",
    "            quantities_needed, \n",
    "            filters='galaxy_id == {}'.format(host_id), \n",
    "            native_filters=['healpix_pixel == {}'.format(pixel), 'redshift_block_lower == 0']\n",
    "        )\n",
    "        if len(data[quantities_needed[0]]):\n",
    "            data['snid'] = snid\n",
    "            host_galaxy_props.append(pd.DataFrame(data))\n",
    "            break\n",
    "    else:\n",
    "        hostless_props.append([host_id, snid])\n",
    "        # print('Cannot find host {} near ({}, {})'.format(host_id, sn_ra, sn_dec))\n",
    "\n",
    "host_galaxy_props = pd.concat(host_galaxy_props, ignore_index=True)"
   ]
  },
  {
   "cell_type": "code",
   "execution_count": 19,
   "metadata": {},
   "outputs": [],
   "source": [
    "host_galaxy_props = pd.concat(host_galaxy_props, ignore_index=True)"
   ]
  },
  {
   "cell_type": "code",
   "execution_count": 20,
   "metadata": {},
   "outputs": [
    {
     "data": {
      "text/plain": [
       "2783"
      ]
     },
     "execution_count": 20,
     "metadata": {},
     "output_type": "execute_result"
    }
   ],
   "source": [
    "len(host_galaxy_props)"
   ]
  },
  {
   "cell_type": "code",
   "execution_count": 29,
   "metadata": {},
   "outputs": [],
   "source": [
    "res = host_galaxy_props.set_index('snid').join(sndf.rename(columns=dict(snid_in='snid')).set_index('snid'), rsuffix='_sn')"
   ]
  },
  {
   "cell_type": "code",
   "execution_count": 30,
   "metadata": {},
   "outputs": [
    {
     "data": {
      "text/html": [
       "<div>\n",
       "<style scoped>\n",
       "    .dataframe tbody tr th:only-of-type {\n",
       "        vertical-align: middle;\n",
       "    }\n",
       "\n",
       "    .dataframe tbody tr th {\n",
       "        vertical-align: top;\n",
       "    }\n",
       "\n",
       "    .dataframe thead th {\n",
       "        text-align: right;\n",
       "    }\n",
       "</style>\n",
       "<table border=\"1\" class=\"dataframe\">\n",
       "  <thead>\n",
       "    <tr style=\"text-align: right;\">\n",
       "      <th></th>\n",
       "      <th>morphology/diskHalfLightRadius</th>\n",
       "      <th>galaxy_id</th>\n",
       "      <th>morphology/spheroidHalfLightRadius</th>\n",
       "      <th>ra</th>\n",
       "      <th>morphology/totalSersicIndex</th>\n",
       "      <th>mag_r</th>\n",
       "      <th>dec</th>\n",
       "      <th>htmid_level_6</th>\n",
       "      <th>galaxy_id_sn</th>\n",
       "      <th>c_in</th>\n",
       "      <th>mB</th>\n",
       "      <th>t0_in</th>\n",
       "      <th>x0_in</th>\n",
       "      <th>x1_in</th>\n",
       "      <th>z_in</th>\n",
       "      <th>snra_in</th>\n",
       "      <th>sndec_in</th>\n",
       "    </tr>\n",
       "    <tr>\n",
       "      <th>snid</th>\n",
       "      <th></th>\n",
       "      <th></th>\n",
       "      <th></th>\n",
       "      <th></th>\n",
       "      <th></th>\n",
       "      <th></th>\n",
       "      <th></th>\n",
       "      <th></th>\n",
       "      <th></th>\n",
       "      <th></th>\n",
       "      <th></th>\n",
       "      <th></th>\n",
       "      <th></th>\n",
       "      <th></th>\n",
       "      <th></th>\n",
       "      <th></th>\n",
       "      <th></th>\n",
       "    </tr>\n",
       "  </thead>\n",
       "  <tbody>\n",
       "    <tr>\n",
       "      <th>MS_9043_2</th>\n",
       "      <td>1.944731</td>\n",
       "      <td>2562500806</td>\n",
       "      <td>0.985439</td>\n",
       "      <td>53.491017</td>\n",
       "      <td>3.850073</td>\n",
       "      <td>18.892840</td>\n",
       "      <td>-27.698565</td>\n",
       "      <td>9198</td>\n",
       "      <td>2562500806</td>\n",
       "      <td>-0.025506</td>\n",
       "      <td>18.022261</td>\n",
       "      <td>61571.389041</td>\n",
       "      <td>0.000973</td>\n",
       "      <td>1.499360</td>\n",
       "      <td>0.072476</td>\n",
       "      <td>53.490547</td>\n",
       "      <td>-27.698978</td>\n",
       "    </tr>\n",
       "    <tr>\n",
       "      <th>MS_9043_3</th>\n",
       "      <td>3.288042</td>\n",
       "      <td>2562500869</td>\n",
       "      <td>1.351803</td>\n",
       "      <td>53.228259</td>\n",
       "      <td>1.000000</td>\n",
       "      <td>20.105118</td>\n",
       "      <td>-28.654434</td>\n",
       "      <td>9198</td>\n",
       "      <td>2562500869</td>\n",
       "      <td>-0.007524</td>\n",
       "      <td>19.038116</td>\n",
       "      <td>61213.960335</td>\n",
       "      <td>0.000387</td>\n",
       "      <td>-1.932523</td>\n",
       "      <td>0.060312</td>\n",
       "      <td>53.226311</td>\n",
       "      <td>-28.654498</td>\n",
       "    </tr>\n",
       "    <tr>\n",
       "      <th>MS_9043_7</th>\n",
       "      <td>3.778045</td>\n",
       "      <td>2562504877</td>\n",
       "      <td>1.997927</td>\n",
       "      <td>52.707182</td>\n",
       "      <td>3.876497</td>\n",
       "      <td>18.045374</td>\n",
       "      <td>-28.554180</td>\n",
       "      <td>9198</td>\n",
       "      <td>2562504877</td>\n",
       "      <td>-0.078385</td>\n",
       "      <td>18.766703</td>\n",
       "      <td>63097.750601</td>\n",
       "      <td>0.000491</td>\n",
       "      <td>0.818096</td>\n",
       "      <td>0.104969</td>\n",
       "      <td>52.705649</td>\n",
       "      <td>-28.554953</td>\n",
       "    </tr>\n",
       "    <tr>\n",
       "      <th>MS_9043_8</th>\n",
       "      <td>3.230932</td>\n",
       "      <td>2562504524</td>\n",
       "      <td>1.964645</td>\n",
       "      <td>52.889861</td>\n",
       "      <td>2.191405</td>\n",
       "      <td>18.638982</td>\n",
       "      <td>-28.202155</td>\n",
       "      <td>9198</td>\n",
       "      <td>2562504524</td>\n",
       "      <td>-0.007228</td>\n",
       "      <td>19.459478</td>\n",
       "      <td>61929.959443</td>\n",
       "      <td>0.000259</td>\n",
       "      <td>1.108244</td>\n",
       "      <td>0.113109</td>\n",
       "      <td>52.889331</td>\n",
       "      <td>-28.202310</td>\n",
       "    </tr>\n",
       "    <tr>\n",
       "      <th>MS_9043_9</th>\n",
       "      <td>5.619791</td>\n",
       "      <td>2562504813</td>\n",
       "      <td>2.776914</td>\n",
       "      <td>53.162164</td>\n",
       "      <td>1.616776</td>\n",
       "      <td>18.168871</td>\n",
       "      <td>-27.799101</td>\n",
       "      <td>9198</td>\n",
       "      <td>2562504813</td>\n",
       "      <td>-0.012755</td>\n",
       "      <td>19.591836</td>\n",
       "      <td>59966.699846</td>\n",
       "      <td>0.000231</td>\n",
       "      <td>-0.092340</td>\n",
       "      <td>0.114249</td>\n",
       "      <td>53.162353</td>\n",
       "      <td>-27.799423</td>\n",
       "    </tr>\n",
       "  </tbody>\n",
       "</table>\n",
       "</div>"
      ],
      "text/plain": [
       "           morphology/diskHalfLightRadius   galaxy_id  \\\n",
       "snid                                                    \n",
       "MS_9043_2                        1.944731  2562500806   \n",
       "MS_9043_3                        3.288042  2562500869   \n",
       "MS_9043_7                        3.778045  2562504877   \n",
       "MS_9043_8                        3.230932  2562504524   \n",
       "MS_9043_9                        5.619791  2562504813   \n",
       "\n",
       "           morphology/spheroidHalfLightRadius         ra  \\\n",
       "snid                                                       \n",
       "MS_9043_2                            0.985439  53.491017   \n",
       "MS_9043_3                            1.351803  53.228259   \n",
       "MS_9043_7                            1.997927  52.707182   \n",
       "MS_9043_8                            1.964645  52.889861   \n",
       "MS_9043_9                            2.776914  53.162164   \n",
       "\n",
       "           morphology/totalSersicIndex      mag_r        dec  htmid_level_6  \\\n",
       "snid                                                                          \n",
       "MS_9043_2                     3.850073  18.892840 -27.698565           9198   \n",
       "MS_9043_3                     1.000000  20.105118 -28.654434           9198   \n",
       "MS_9043_7                     3.876497  18.045374 -28.554180           9198   \n",
       "MS_9043_8                     2.191405  18.638982 -28.202155           9198   \n",
       "MS_9043_9                     1.616776  18.168871 -27.799101           9198   \n",
       "\n",
       "           galaxy_id_sn      c_in         mB         t0_in     x0_in  \\\n",
       "snid                                                                   \n",
       "MS_9043_2    2562500806 -0.025506  18.022261  61571.389041  0.000973   \n",
       "MS_9043_3    2562500869 -0.007524  19.038116  61213.960335  0.000387   \n",
       "MS_9043_7    2562504877 -0.078385  18.766703  63097.750601  0.000491   \n",
       "MS_9043_8    2562504524 -0.007228  19.459478  61929.959443  0.000259   \n",
       "MS_9043_9    2562504813 -0.012755  19.591836  59966.699846  0.000231   \n",
       "\n",
       "              x1_in      z_in    snra_in   sndec_in  \n",
       "snid                                                 \n",
       "MS_9043_2  1.499360  0.072476  53.490547 -27.698978  \n",
       "MS_9043_3 -1.932523  0.060312  53.226311 -28.654498  \n",
       "MS_9043_7  0.818096  0.104969  52.705649 -28.554953  \n",
       "MS_9043_8  1.108244  0.113109  52.889331 -28.202310  \n",
       "MS_9043_9 -0.092340  0.114249  53.162353 -27.799423  "
      ]
     },
     "execution_count": 30,
     "metadata": {},
     "output_type": "execute_result"
    }
   ],
   "source": [
    "res.head()"
   ]
  },
  {
   "cell_type": "code",
   "execution_count": 48,
   "metadata": {},
   "outputs": [],
   "source": [
    "res.to_csv('host_sn_pairs.csv')"
   ]
  },
  {
   "cell_type": "code",
   "execution_count": 34,
   "metadata": {},
   "outputs": [
    {
     "name": "stderr",
     "output_type": "stream",
     "text": [
      "UsageError: Line magic function `%matploitlib` not found.\n"
     ]
    }
   ],
   "source": [
    "%matploitlib inline"
   ]
  },
  {
   "cell_type": "code",
   "execution_count": 51,
   "metadata": {},
   "outputs": [
    {
     "data": {
      "text/plain": [
       "4.083333333333333"
      ]
     },
     "execution_count": 51,
     "metadata": {},
     "output_type": "execute_result"
    }
   ],
   "source": [
    "len(res.query('z_in < 0.5'))/ 10 / 12"
   ]
  },
  {
   "cell_type": "code",
   "execution_count": 40,
   "metadata": {},
   "outputs": [
    {
     "data": {
      "text/plain": [
       "182.4"
      ]
     },
     "execution_count": 40,
     "metadata": {},
     "output_type": "execute_result"
    }
   ],
   "source": [
    "len(hostless_props) /10.0"
   ]
  },
  {
   "cell_type": "code",
   "execution_count": 41,
   "metadata": {},
   "outputs": [
    {
     "data": {
      "text/plain": [
       "0.020833333333333332"
      ]
     },
     "execution_count": 41,
     "metadata": {},
     "output_type": "execute_result"
    }
   ],
   "source": [
    "1/ 4. / 12. "
   ]
  },
  {
   "cell_type": "code",
   "execution_count": 42,
   "metadata": {},
   "outputs": [
    {
     "data": {
      "text/plain": [
       "1824"
      ]
     },
     "execution_count": 42,
     "metadata": {},
     "output_type": "execute_result"
    }
   ],
   "source": [
    "len(hostless_props)"
   ]
  },
  {
   "cell_type": "code",
   "execution_count": 44,
   "metadata": {},
   "outputs": [],
   "source": [
    "not_found = pd.DataFrame(hostless_props, columns=['host_id', 'sn_id'])"
   ]
  },
  {
   "cell_type": "code",
   "execution_count": 45,
   "metadata": {},
   "outputs": [
    {
     "data": {
      "text/html": [
       "<div>\n",
       "<style scoped>\n",
       "    .dataframe tbody tr th:only-of-type {\n",
       "        vertical-align: middle;\n",
       "    }\n",
       "\n",
       "    .dataframe tbody tr th {\n",
       "        vertical-align: top;\n",
       "    }\n",
       "\n",
       "    .dataframe thead th {\n",
       "        text-align: right;\n",
       "    }\n",
       "</style>\n",
       "<table border=\"1\" class=\"dataframe\">\n",
       "  <thead>\n",
       "    <tr style=\"text-align: right;\">\n",
       "      <th></th>\n",
       "      <th>host_id</th>\n",
       "      <th>sn_id</th>\n",
       "    </tr>\n",
       "  </thead>\n",
       "  <tbody>\n",
       "    <tr>\n",
       "      <th>0</th>\n",
       "      <td>1940857362</td>\n",
       "      <td>mDDF_8915_6971</td>\n",
       "    </tr>\n",
       "    <tr>\n",
       "      <th>1</th>\n",
       "      <td>1941191110</td>\n",
       "      <td>mDDF_8915_7651</td>\n",
       "    </tr>\n",
       "    <tr>\n",
       "      <th>2</th>\n",
       "      <td>1</td>\n",
       "      <td>hl_ms_1</td>\n",
       "    </tr>\n",
       "    <tr>\n",
       "      <th>3</th>\n",
       "      <td>390</td>\n",
       "      <td>hl_ms_390</td>\n",
       "    </tr>\n",
       "    <tr>\n",
       "      <th>4</th>\n",
       "      <td>1309</td>\n",
       "      <td>hl_ms_1309</td>\n",
       "    </tr>\n",
       "  </tbody>\n",
       "</table>\n",
       "</div>"
      ],
      "text/plain": [
       "      host_id           sn_id\n",
       "0  1940857362  mDDF_8915_6971\n",
       "1  1941191110  mDDF_8915_7651\n",
       "2           1         hl_ms_1\n",
       "3         390       hl_ms_390\n",
       "4        1309      hl_ms_1309"
      ]
     },
     "execution_count": 45,
     "metadata": {},
     "output_type": "execute_result"
    }
   ],
   "source": [
    "not_found.head()"
   ]
  },
  {
   "cell_type": "code",
   "execution_count": 46,
   "metadata": {},
   "outputs": [],
   "source": [
    "not_found.to_csv('host_not.csv', index=False)"
   ]
  },
  {
   "cell_type": "code",
   "execution_count": 47,
   "metadata": {},
   "outputs": [
    {
     "name": "stdout",
     "output_type": "stream",
     "text": [
      "/global/u2/r/rbiswas\n"
     ]
    }
   ],
   "source": [
    "!pwd"
   ]
  },
  {
   "cell_type": "code",
   "execution_count": 53,
   "metadata": {},
   "outputs": [
    {
     "data": {
      "text/plain": [
       "2783"
      ]
     },
     "execution_count": 53,
     "metadata": {},
     "output_type": "execute_result"
    }
   ],
   "source": [
    "len(xx)"
   ]
  },
  {
   "cell_type": "code",
   "execution_count": 31,
   "metadata": {},
   "outputs": [
    {
     "data": {
      "text/plain": [
       "2783"
      ]
     },
     "execution_count": 31,
     "metadata": {},
     "output_type": "execute_result"
    }
   ],
   "source": [
    "len(host_galaxy_props)"
   ]
  },
  {
   "cell_type": "code",
   "execution_count": 52,
   "metadata": {},
   "outputs": [],
   "source": [
    "xx =pd.merge(sndf, host_galaxy_props, on='snid_in').dropna()"
   ]
  },
  {
   "cell_type": "code",
   "execution_count": 34,
   "metadata": {},
   "outputs": [
    {
     "data": {
      "text/plain": [
       "Index(['htmid_level_6', 'galaxy_id', 'c_in', 'mB', 't0_in', 'x0_in', 'x1_in',\n",
       "       'z_in', 'snid_in', 'snra_in', 'sndec_in'],\n",
       "      dtype='object')"
      ]
     },
     "execution_count": 34,
     "metadata": {},
     "output_type": "execute_result"
    }
   ],
   "source": [
    "sndf.columns"
   ]
  },
  {
   "cell_type": "code",
   "execution_count": 37,
   "metadata": {},
   "outputs": [],
   "source": [
    "host_galaxy_props.rename(columns=dict(snid='snid_in'), inplace=True)"
   ]
  },
  {
   "cell_type": "code",
   "execution_count": 41,
   "metadata": {},
   "outputs": [
    {
     "data": {
      "text/html": [
       "<div>\n",
       "<style scoped>\n",
       "    .dataframe tbody tr th:only-of-type {\n",
       "        vertical-align: middle;\n",
       "    }\n",
       "\n",
       "    .dataframe tbody tr th {\n",
       "        vertical-align: top;\n",
       "    }\n",
       "\n",
       "    .dataframe thead th {\n",
       "        text-align: right;\n",
       "    }\n",
       "</style>\n",
       "<table border=\"1\" class=\"dataframe\">\n",
       "  <thead>\n",
       "    <tr style=\"text-align: right;\">\n",
       "      <th></th>\n",
       "      <th>htmid_level_6</th>\n",
       "      <th>galaxy_id</th>\n",
       "      <th>c_in</th>\n",
       "      <th>mB</th>\n",
       "      <th>t0_in</th>\n",
       "      <th>x0_in</th>\n",
       "      <th>x1_in</th>\n",
       "      <th>z_in</th>\n",
       "      <th>snid_in</th>\n",
       "      <th>snra_in</th>\n",
       "      <th>sndec_in</th>\n",
       "    </tr>\n",
       "  </thead>\n",
       "  <tbody>\n",
       "    <tr>\n",
       "      <th>0</th>\n",
       "      <td>9021</td>\n",
       "      <td>10562502111</td>\n",
       "      <td>0.035201</td>\n",
       "      <td>18.516489</td>\n",
       "      <td>60772.368515</td>\n",
       "      <td>0.000617</td>\n",
       "      <td>1.477374</td>\n",
       "      <td>0.077278</td>\n",
       "      <td>MS_10199_0</td>\n",
       "      <td>66.115587</td>\n",
       "      <td>-40.866055</td>\n",
       "    </tr>\n",
       "    <tr>\n",
       "      <th>1</th>\n",
       "      <td>9023</td>\n",
       "      <td>10562500822</td>\n",
       "      <td>-0.086665</td>\n",
       "      <td>17.966773</td>\n",
       "      <td>63060.297448</td>\n",
       "      <td>0.001028</td>\n",
       "      <td>0.576378</td>\n",
       "      <td>0.073256</td>\n",
       "      <td>MS_10199_1</td>\n",
       "      <td>66.662435</td>\n",
       "      <td>-42.042877</td>\n",
       "    </tr>\n",
       "    <tr>\n",
       "      <th>2</th>\n",
       "      <td>9021</td>\n",
       "      <td>10562500735</td>\n",
       "      <td>0.037553</td>\n",
       "      <td>19.078334</td>\n",
       "      <td>62832.166508</td>\n",
       "      <td>0.000370</td>\n",
       "      <td>-0.177457</td>\n",
       "      <td>0.068469</td>\n",
       "      <td>MS_10199_2</td>\n",
       "      <td>65.212146</td>\n",
       "      <td>-41.416473</td>\n",
       "    </tr>\n",
       "    <tr>\n",
       "      <th>3</th>\n",
       "      <td>9021</td>\n",
       "      <td>10562502246</td>\n",
       "      <td>0.076715</td>\n",
       "      <td>19.192019</td>\n",
       "      <td>61400.008116</td>\n",
       "      <td>0.000335</td>\n",
       "      <td>-1.344205</td>\n",
       "      <td>0.080189</td>\n",
       "      <td>MS_10199_3</td>\n",
       "      <td>65.469824</td>\n",
       "      <td>-41.109646</td>\n",
       "    </tr>\n",
       "    <tr>\n",
       "      <th>4</th>\n",
       "      <td>9023</td>\n",
       "      <td>10562504918</td>\n",
       "      <td>-0.012653</td>\n",
       "      <td>19.388848</td>\n",
       "      <td>61342.657248</td>\n",
       "      <td>0.000278</td>\n",
       "      <td>0.474204</td>\n",
       "      <td>0.115499</td>\n",
       "      <td>MS_10199_5</td>\n",
       "      <td>65.986211</td>\n",
       "      <td>-42.086708</td>\n",
       "    </tr>\n",
       "  </tbody>\n",
       "</table>\n",
       "</div>"
      ],
      "text/plain": [
       "   htmid_level_6    galaxy_id      c_in         mB         t0_in     x0_in  \\\n",
       "0           9021  10562502111  0.035201  18.516489  60772.368515  0.000617   \n",
       "1           9023  10562500822 -0.086665  17.966773  63060.297448  0.001028   \n",
       "2           9021  10562500735  0.037553  19.078334  62832.166508  0.000370   \n",
       "3           9021  10562502246  0.076715  19.192019  61400.008116  0.000335   \n",
       "4           9023  10562504918 -0.012653  19.388848  61342.657248  0.000278   \n",
       "\n",
       "      x1_in      z_in     snid_in    snra_in   sndec_in  \n",
       "0  1.477374  0.077278  MS_10199_0  66.115587 -40.866055  \n",
       "1  0.576378  0.073256  MS_10199_1  66.662435 -42.042877  \n",
       "2 -0.177457  0.068469  MS_10199_2  65.212146 -41.416473  \n",
       "3 -1.344205  0.080189  MS_10199_3  65.469824 -41.109646  \n",
       "4  0.474204  0.115499  MS_10199_5  65.986211 -42.086708  "
      ]
     },
     "execution_count": 41,
     "metadata": {},
     "output_type": "execute_result"
    }
   ],
   "source": [
    "sndf.head()"
   ]
  },
  {
   "cell_type": "code",
   "execution_count": 40,
   "metadata": {},
   "outputs": [
    {
     "data": {
      "text/html": [
       "<div>\n",
       "<style scoped>\n",
       "    .dataframe tbody tr th:only-of-type {\n",
       "        vertical-align: middle;\n",
       "    }\n",
       "\n",
       "    .dataframe tbody tr th {\n",
       "        vertical-align: top;\n",
       "    }\n",
       "\n",
       "    .dataframe thead th {\n",
       "        text-align: right;\n",
       "    }\n",
       "</style>\n",
       "<table border=\"1\" class=\"dataframe\">\n",
       "  <thead>\n",
       "    <tr style=\"text-align: right;\">\n",
       "      <th></th>\n",
       "      <th>dec</th>\n",
       "      <th>galaxy_id</th>\n",
       "      <th>morphology/totalSersicIndex</th>\n",
       "      <th>ra</th>\n",
       "      <th>mag_r</th>\n",
       "      <th>snid_in</th>\n",
       "    </tr>\n",
       "  </thead>\n",
       "  <tbody>\n",
       "    <tr>\n",
       "      <th>0</th>\n",
       "      <td>-27.698565</td>\n",
       "      <td>2562500806</td>\n",
       "      <td>3.850073</td>\n",
       "      <td>53.491017</td>\n",
       "      <td>18.892840</td>\n",
       "      <td>MS_9043_2</td>\n",
       "    </tr>\n",
       "    <tr>\n",
       "      <th>1</th>\n",
       "      <td>-28.654434</td>\n",
       "      <td>2562500869</td>\n",
       "      <td>1.000000</td>\n",
       "      <td>53.228259</td>\n",
       "      <td>20.105118</td>\n",
       "      <td>MS_9043_3</td>\n",
       "    </tr>\n",
       "    <tr>\n",
       "      <th>2</th>\n",
       "      <td>-28.554180</td>\n",
       "      <td>2562504877</td>\n",
       "      <td>3.876497</td>\n",
       "      <td>52.707182</td>\n",
       "      <td>18.045374</td>\n",
       "      <td>MS_9043_7</td>\n",
       "    </tr>\n",
       "    <tr>\n",
       "      <th>3</th>\n",
       "      <td>-28.202155</td>\n",
       "      <td>2562504524</td>\n",
       "      <td>2.191405</td>\n",
       "      <td>52.889861</td>\n",
       "      <td>18.638982</td>\n",
       "      <td>MS_9043_8</td>\n",
       "    </tr>\n",
       "    <tr>\n",
       "      <th>4</th>\n",
       "      <td>-27.799101</td>\n",
       "      <td>2562504813</td>\n",
       "      <td>1.616776</td>\n",
       "      <td>53.162164</td>\n",
       "      <td>18.168871</td>\n",
       "      <td>MS_9043_9</td>\n",
       "    </tr>\n",
       "  </tbody>\n",
       "</table>\n",
       "</div>"
      ],
      "text/plain": [
       "         dec   galaxy_id  morphology/totalSersicIndex         ra      mag_r  \\\n",
       "0 -27.698565  2562500806                     3.850073  53.491017  18.892840   \n",
       "1 -28.654434  2562500869                     1.000000  53.228259  20.105118   \n",
       "2 -28.554180  2562504877                     3.876497  52.707182  18.045374   \n",
       "3 -28.202155  2562504524                     2.191405  52.889861  18.638982   \n",
       "4 -27.799101  2562504813                     1.616776  53.162164  18.168871   \n",
       "\n",
       "     snid_in  \n",
       "0  MS_9043_2  \n",
       "1  MS_9043_3  \n",
       "2  MS_9043_7  \n",
       "3  MS_9043_8  \n",
       "4  MS_9043_9  "
      ]
     },
     "execution_count": 40,
     "metadata": {},
     "output_type": "execute_result"
    }
   ],
   "source": [
    "host_galaxy_props.head()"
   ]
  },
  {
   "cell_type": "code",
   "execution_count": 44,
   "metadata": {},
   "outputs": [
    {
     "data": {
      "text/plain": [
       "count             2783\n",
       "unique            2783\n",
       "top       MS_9043_3547\n",
       "freq                 1\n",
       "Name: snid_in, dtype: object"
      ]
     },
     "execution_count": 44,
     "metadata": {},
     "output_type": "execute_result"
    }
   ],
   "source": [
    "host_galaxy_props.snid_in.describe()"
   ]
  },
  {
   "cell_type": "code",
   "execution_count": 45,
   "metadata": {},
   "outputs": [
    {
     "data": {
      "text/plain": [
       "count           588212\n",
       "unique          588212\n",
       "top       MS_8915_1145\n",
       "freq                 1\n",
       "Name: snid_in, dtype: object"
      ]
     },
     "execution_count": 45,
     "metadata": {},
     "output_type": "execute_result"
    }
   ],
   "source": [
    "sndf.snid_in.describe()"
   ]
  },
  {
   "cell_type": "code",
   "execution_count": 57,
   "metadata": {},
   "outputs": [],
   "source": [
    "xx.to_csv('~/joined_gal_sn_ddf.csv', index=False)"
   ]
  },
  {
   "cell_type": "code",
   "execution_count": 60,
   "metadata": {},
   "outputs": [
    {
     "ename": "ModuleNotFoundError",
     "evalue": "No module named 'lsst'",
     "output_type": "error",
     "traceback": [
      "\u001b[0;31m---------------------------------------------------------------------------\u001b[0m",
      "\u001b[0;31mModuleNotFoundError\u001b[0m                       Traceback (most recent call last)",
      "\u001b[0;32m<ipython-input-60-5306b939ad5d>\u001b[0m in \u001b[0;36m<module>\u001b[0;34m\u001b[0m\n\u001b[0;32m----> 1\u001b[0;31m \u001b[0;32mfrom\u001b[0m \u001b[0mlsst\u001b[0m\u001b[0;34m.\u001b[0m\u001b[0msims\u001b[0m\u001b[0;34m.\u001b[0m\u001b[0mutils\u001b[0m \u001b[0;32mimport\u001b[0m \u001b[0mangularSeparation\u001b[0m\u001b[0;34m\u001b[0m\u001b[0m\n\u001b[0m",
      "\u001b[0;31mModuleNotFoundError\u001b[0m: No module named 'lsst'"
     ]
    }
   ],
   "source": [
    "from lsst.sims.utils import angularSeparation"
   ]
  },
  {
   "cell_type": "code",
   "execution_count": null,
   "metadata": {},
   "outputs": [],
   "source": []
  }
 ],
 "metadata": {
  "kernelspec": {
   "display_name": "desc-python",
   "language": "python",
   "name": "desc-python"
  },
  "language_info": {
   "codemirror_mode": {
    "name": "ipython",
    "version": 3
   },
   "file_extension": ".py",
   "mimetype": "text/x-python",
   "name": "python",
   "nbconvert_exporter": "python",
   "pygments_lexer": "ipython3",
   "version": "3.6.6"
  }
 },
 "nbformat": 4,
 "nbformat_minor": 2
}
