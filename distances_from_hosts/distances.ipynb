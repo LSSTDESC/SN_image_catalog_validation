{
 "cells": [
  {
   "cell_type": "code",
   "execution_count": 1,
   "metadata": {},
   "outputs": [],
   "source": [
    "import os, sys\n",
    "import numpy as np\n",
    "import pandas as pd\n",
    "import matplotlib.pyplot as plt\n",
    "from lsst.sims.utils import angularSeparation"
   ]
  },
  {
   "cell_type": "code",
   "execution_count": 2,
   "metadata": {},
   "outputs": [],
   "source": [
    "fname = '/global/projecta/projectdirs/lsst/groups/SSim/DC2/cosmoDC2_v1.1.4/ddf_region_galaxy_catalog/DDF_sn_host_pairs.csv'"
   ]
  },
  {
   "cell_type": "code",
   "execution_count": 3,
   "metadata": {},
   "outputs": [],
   "source": [
    "df = pd.read_csv(fname)"
   ]
  },
  {
   "cell_type": "code",
   "execution_count": 4,
   "metadata": {},
   "outputs": [],
   "source": [
    "df['sn_host_sep'] = angularSeparation(df.snra_in.values, df.sndec_in.values, df.ra.values, df.dec.values)*60. * 60. \n",
    "# to go to arc-sec from degrees"
   ]
  },
  {
   "cell_type": "code",
   "execution_count": 5,
   "metadata": {},
   "outputs": [
    {
     "data": {
      "text/plain": [
       "Index(['galaxy_id', 'htmid_level_6', 'c_in', 'mB', 't0_in', 'x0_in', 'x1_in',\n",
       "       'z_in', 'snid_in', 'snra_in', 'sndec_in', 'mag_true_i_lsst',\n",
       "       'size_minor_bulge_true', 'mag_true_z_lsst', 'size_bulge_true',\n",
       "       'mag_true_r_lsst', 'morphology/diskHalfLightRadiusArcsec', 'dec',\n",
       "       'ellipticity_1_bulge_true', 'mag_true_u_lsst', 'dec_true',\n",
       "       'ellipticity_1_disk_true', 'ra', 'position_angle_true',\n",
       "       'mag_true_Y_lsst', 'stellar_mass', 'ra_true', 'stellar_mass_disk',\n",
       "       'mag_true_g_lsst', 'bulge_to_total_ratio_i', 'ellipticity_2_bulge_true',\n",
       "       'morphology/positionAngle', 'size_disk_true', 'size_minor_disk_true',\n",
       "       'morphology/spheroidHalfLightRadiusArcsec', 'ellipticity_2_disk_true',\n",
       "       'stellar_mass_bulge', 'redshift_true', 'sn_host_sep'],\n",
       "      dtype='object')"
      ]
     },
     "execution_count": 5,
     "metadata": {},
     "output_type": "execute_result"
    }
   ],
   "source": [
    "df.columns"
   ]
  },
  {
   "cell_type": "code",
   "execution_count": 6,
   "metadata": {},
   "outputs": [],
   "source": [
    "df['ratio_disk_size'] = df.sn_host_sep / df['size_disk_true']\n",
    "df['ratio_disk_minor_size'] = df.sn_host_sep / df['size_minor_disk_true']\n",
    "df['ratio_bulge_size'] = df.sn_host_sep / df['size_bulge_true']\n",
    "df['ratio_bulge_minor_size'] = df.sn_host_sep / df['size_minor_bulge_true']"
   ]
  },
  {
   "cell_type": "code",
   "execution_count": 10,
   "metadata": {},
   "outputs": [],
   "source": [
    "df.to_csv('distances.csv.gz', compression='gzip')"
   ]
  },
  {
   "cell_type": "code",
   "execution_count": 8,
   "metadata": {},
   "outputs": [
    {
     "ename": "ModuleNotFoundError",
     "evalue": "No module named 'seaborn'",
     "output_type": "error",
     "traceback": [
      "\u001b[0;31m---------------------------------------------------------------------------\u001b[0m",
      "\u001b[0;31mModuleNotFoundError\u001b[0m                       Traceback (most recent call last)",
      "\u001b[0;32m<ipython-input-8-77ad73a16d7f>\u001b[0m in \u001b[0;36m<module>\u001b[0;34m\u001b[0m\n\u001b[0;32m----> 1\u001b[0;31m \u001b[0;32mimport\u001b[0m \u001b[0mseaborn\u001b[0m \u001b[0;32mas\u001b[0m \u001b[0msns\u001b[0m\u001b[0;34m\u001b[0m\u001b[0m\n\u001b[0m\u001b[1;32m      2\u001b[0m \u001b[0msns\u001b[0m\u001b[0;34m.\u001b[0m\u001b[0mset_style\u001b[0m\u001b[0;34m(\u001b[0m\u001b[0;34m'whitegrid'\u001b[0m\u001b[0;34m)\u001b[0m\u001b[0;34m\u001b[0m\u001b[0m\n\u001b[1;32m      3\u001b[0m \u001b[0msns\u001b[0m\u001b[0;34m.\u001b[0m\u001b[0mset_context\u001b[0m\u001b[0;34m(\u001b[0m\u001b[0;34m'paper'\u001b[0m\u001b[0;34m,\u001b[0m \u001b[0mfont_scale\u001b[0m\u001b[0;34m=\u001b[0m\u001b[0;36m1.5\u001b[0m\u001b[0;34m)\u001b[0m\u001b[0;34m\u001b[0m\u001b[0m\n",
      "\u001b[0;31mModuleNotFoundError\u001b[0m: No module named 'seaborn'"
     ]
    }
   ],
   "source": [
    "import seaborn as sns\n",
    "sns.set_style('whitegrid')\n",
    "sns.set_context('paper', font_scale=1.5)"
   ]
  },
  {
   "cell_type": "code",
   "execution_count": null,
   "metadata": {},
   "outputs": [],
   "source": []
  },
  {
   "cell_type": "code",
   "execution_count": null,
   "metadata": {},
   "outputs": [],
   "source": []
  },
  {
   "cell_type": "code",
   "execution_count": null,
   "metadata": {},
   "outputs": [],
   "source": [
    "fig, ax = plt.subplots(2, sharex=True, figsize=(6,6))\n",
    "_ = ax[0].hist(df.ratio_disk_size, bins=np.arange(0., 10., 0.1), density=True, histtype='step', label='size = major_axis')\n",
    "_ = ax[0].hist(df.ratio_disk_minor_size, bins=np.arange(0., 10., 0.1), density=True, histtype='step', label='size = minor_axis')\n",
    "ax[0].set_title('Disk')\n",
    "_ = ax[1].hist(df.ratio_bulge_size, bins=np.arange(0., 10., 0.1), density=True, histtype='step', label='size = major_axis')\n",
    "_ = ax[1].hist(df.ratio_bulge_minor_size, bins=np.arange(0., 10., 0.1), density=True, histtype='step', label='size = minor_axis')\n",
    "ax[1].set_title('Bulge')\n",
    "ax[1].set_xlabel('Host SN sep / galaxy size')\n",
    "ax[0].set_ylabel('PDF')\n",
    "ax[1].set_ylabel('PDF')\n",
    "plt.legend(loc='best')\n",
    "fig.savefig('sn_host_separation_in_units_of_galaxy_size.pdf')"
   ]
  },
  {
   "cell_type": "markdown",
   "metadata": {},
   "source": [
    "## Scratch"
   ]
  },
  {
   "cell_type": "code",
   "execution_count": 7,
   "metadata": {},
   "outputs": [
    {
     "name": "stderr",
     "output_type": "stream",
     "text": [
      "/cvmfs/sw.lsst.eu/linux-x86_64/lsst_sims/sims_2_13_1/python/miniconda3-4.5.4/envs/lsst-scipipe-fcd27eb/lib/python3.6/site-packages/matplotlib/font_manager.py:278: UserWarning: Matplotlib is building the font cache using fc-list. This may take a moment.\n",
      "  'Matplotlib is building the font cache using fc-list. '\n"
     ]
    },
    {
     "data": {
      "image/png": "[encoded data removed]",
      "text/plain": [
       "<Figure size 432x432 with 2 Axes>"
      ]
     },
     "metadata": {
      "needs_background": "light"
     },
     "output_type": "display_data"
    }
   ],
   "source": [
    "fig, ax = plt.subplots(2, sharex=True, figsize=(6,6))\n",
    "_ = ax[0].hist(df.ratio_disk_size, bins=np.arange(0., 10., 0.1), density=True, histtype='step', label='size = major_axis')\n",
    "_ = ax[0].hist(df.ratio_disk_minor_size, bins=np.arange(0., 10., 0.1), density=True, histtype='step', label='size = minor_axis')\n",
    "ax[0].set_title('Disk')\n",
    "_ = ax[1].hist(df.ratio_bulge_size, bins=np.arange(0., 10., 0.1), density=True, histtype='step', label='size = major_axis')\n",
    "_ = ax[1].hist(df.ratio_bulge_minor_size, bins=np.arange(0., 10., 0.1), density=True, histtype='step', label='size = minor_axis')\n",
    "ax[1].set_title('Bulge')\n",
    "ax[1].set_xlabel('Host SN sep / galaxy size')\n",
    "ax[0].set_ylabel('PDF')\n",
    "ax[1].set_ylabel('PDF')\n",
    "plt.legend(loc='best')\n",
    "fig.savefig('sn_host_separation_in_units_of_galaxy_size.pdf')"
   ]
  },
  {
   "cell_type": "markdown",
   "metadata": {},
   "source": [
    "## "
   ]
  }
 ],
 "metadata": {
  "kernelspec": {
   "display_name": "desc-sims",
   "language": "python",
   "name": "desc-sims"
  },
  "language_info": {
   "codemirror_mode": {
    "name": "ipython",
    "version": 3
   },
   "file_extension": ".py",
   "mimetype": "text/x-python",
   "name": "python",
   "nbconvert_exporter": "python",
   "pygments_lexer": "ipython3",
   "version": "3.6.6"
  }
 },
 "nbformat": 4,
 "nbformat_minor": 4
}
