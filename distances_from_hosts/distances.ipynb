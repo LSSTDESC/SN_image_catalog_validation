{
 "cells": [
  {
   "cell_type": "code",
   "execution_count": 1,
   "metadata": {},
   "outputs": [],
   "source": [
    "import os, sys\n",
    "import numpy as np\n",
    "import pandas as pd\n",
    "import matplotlib.pyplot as plt\n",
    "from lsst.sims.utils import angularSeparation"
   ]
  },
  {
   "cell_type": "code",
   "execution_count": 2,
   "metadata": {},
   "outputs": [],
   "source": [
    "fname = '/global/projecta/projectdirs/lsst/groups/SSim/DC2/cosmoDC2_v1.1.4/ddf_region_galaxy_catalog/DDF_sn_host_pairs.csv'"
   ]
  },
  {
   "cell_type": "code",
   "execution_count": 3,
   "metadata": {},
   "outputs": [],
   "source": [
    "df = pd.read_csv(fname)"
   ]
  },
  {
   "cell_type": "code",
   "execution_count": 15,
   "metadata": {},
   "outputs": [],
   "source": [
    "df['sn_host_sep'] = angularSeparation(df.snra_in.values, df.sndec_in.values, df.ra.values, df.dec.values)*60. * 60. \n",
    "# to go to arc-sec from degrees"
   ]
  },
  {
   "cell_type": "code",
   "execution_count": 7,
   "metadata": {},
   "outputs": [
    {
     "data": {
      "text/plain": [
       "Index(['galaxy_id', 'htmid_level_6', 'c_in', 'mB', 't0_in', 'x0_in', 'x1_in',\n",
       "       'z_in', 'snid_in', 'snra_in', 'sndec_in', 'stellar_mass_disk',\n",
       "       'position_angle_true', 'morphology/diskHalfLightRadiusArcsec', 'ra',\n",
       "       'morphology/spheroidHalfLightRadiusArcsec', 'stellar_mass_bulge',\n",
       "       'dec_true', 'bulge_to_total_ratio_i', 'mag_true_g_lsst',\n",
       "       'size_bulge_true', 'ra_true', 'mag_true_r_lsst', 'size_disk_true',\n",
       "       'mag_true_Y_lsst', 'size_minor_bulge_true', 'redshift_true',\n",
       "       'mag_true_u_lsst', 'morphology/positionAngle', 'mag_true_i_lsst',\n",
       "       'mag_true_z_lsst', 'dec', 'stellar_mass', 'size_minor_disk_true',\n",
       "       'sn_host_sep'],\n",
       "      dtype='object')"
      ]
     },
     "execution_count": 7,
     "metadata": {},
     "output_type": "execute_result"
    }
   ],
   "source": [
    "df.columns"
   ]
  },
  {
   "cell_type": "code",
   "execution_count": 16,
   "metadata": {},
   "outputs": [],
   "source": [
    "df['ratio_disk_size'] = df.sn_host_sep / df['size_disk_true']\n",
    "df['ratio_disk_minor_size'] = df.sn_host_sep / df['size_minor_disk_true']\n",
    "df['ratio_bulge_size'] = df.sn_host_sep / df['size_bulge_true']\n",
    "df['ratio_bulge_minor_size'] = df.sn_host_sep / df['size_minor_bulge_true']"
   ]
  },
  {
   "cell_type": "code",
   "execution_count": 26,
   "metadata": {},
   "outputs": [
    {
     "data": {
      "image/png": "[encoded data removed]",
      "text/plain": [
       "<Figure size 432x288 with 2 Axes>"
      ]
     },
     "metadata": {
      "needs_background": "light"
     },
     "output_type": "display_data"
    }
   ],
   "source": [
    "fig, ax = plt.subplots(2, sharex=True)\n",
    "_ = ax[0].hist(df.ratio_disk_size, bins=np.arange(0., 10., 0.1), density=True, histtype='step', label='size = major_axis')\n",
    "_ = ax[0].hist(df.ratio_disk_minor_size, bins=np.arange(0., 10., 0.1), density=True, histtype='step', label='size = minor_axis')\n",
    "ax[0].set_title('Disk')\n",
    "_ = ax[1].hist(df.ratio_bulge_size, bins=np.arange(0., 10., 0.1), density=True, histtype='step', label='size = major_axis')\n",
    "_ = ax[1].hist(df.ratio_bulge_minor_size, bins=np.arange(0., 10., 0.1), density=True, histtype='step', label='size = minor_axis')\n",
    "ax[1].set_title('Bulge')\n",
    "ax[1].set_xlabel('Host SN sep / galaxy size')\n",
    "ax[0].set_ylabel('PDF')\n",
    "ax[1].set_ylabel('PDF')\n",
    "plt.legend(loc='best')\n",
    "fig.savefig('sn_host_separation_in_units_of_galaxy_size.pdf')"
   ]
  },
  {
   "cell_type": "markdown",
   "metadata": {},
   "source": [
    "## "
   ]
  }
 ],
 "metadata": {
  "kernelspec": {
   "display_name": "desc-stack",
   "language": "python",
   "name": "desc-stack"
  },
  "language_info": {
   "codemirror_mode": {
    "name": "ipython",
    "version": 3
   },
   "file_extension": ".py",
   "mimetype": "text/x-python",
   "name": "python",
   "nbconvert_exporter": "python",
   "pygments_lexer": "ipython3",
   "version": "3.6.6"
  }
 },
 "nbformat": 4,
 "nbformat_minor": 2
}
