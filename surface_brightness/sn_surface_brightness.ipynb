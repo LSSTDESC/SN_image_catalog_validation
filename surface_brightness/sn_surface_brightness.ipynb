{
 "cells": [
  {
   "cell_type": "code",
   "execution_count": 1,
   "metadata": {},
   "outputs": [],
   "source": [
    "import numpy as np\n",
    "import pandas as pd\n",
    "import healpy as hp\n",
    "import GCRCatalogs\n",
    "import os, sys\n",
    "from GCR import GCRQuery\n",
    "from sqlalchemy import create_engine\n",
    "import mog_utils\n",
    "import units\n",
    "import matplotlib.pyplot as plt\n",
    "from lsst.sims.utils import angularSeparation\n",
    "\n",
    "%matplotlib inline\n",
    "%load_ext autoreload\n",
    "%autoreload 2\n",
    "pd.options.display.max_columns = None"
   ]
  },
  {
   "cell_type": "markdown",
   "metadata": {},
   "source": [
    "## Surface brightness of SN host galaxies\n",
    "\n",
    "Author: Ji Won Park (@jiwoncpark) via discussions with Rahul Biswas (@rbiswas4)\n",
    "\n",
    "Last Run: 4/30/2019\n",
    "\n",
    "- __Objective__: To find a distribution of the surface brightness of the host galaxy at the location of the SNe in the DDF region.\n",
    "- __Motivation__: Image subtraction is used to detect the SN. As can be seen in Fig 10 of [Kessler et al 2015](https://arxiv.org/pdf/1507.05137.pdf), however, the precision of the DES image subtraction algorithm gets worse with surface brightness between 20.5 and 22. This is because the high surface brightness causes the background to be bright and reduces the contrast of SN against the background. We want to ensure that DC2 includes this range of background brightness so as to test the performance of our image subtraction in the challenging environment. \n",
    "- __Assumptions__: \n",
    "    - While the background is technically the PSF-convolved brightness of all nearby galaxies summed over, for simplicity we use the PSF-convolved host galaxy brightness as a proxy for background.\n",
    "    - CosmoDC2 models galaxies as de Vaucouleurs bulge plus exponential disk. We use the prescription in [Hogg and Lang 2013](https://arxiv.org/abs/1210.6563) to approximate each component (bulge or disk) as a mixture of Gaussians so that PSF convolution can be made analytical.\n",
    "    - We use a circular Gaussian PSF with FWHM 0.7\".\n",
    "    - Assuming that the instance catalogs use unlensed conventions for the SN position (needs confirming), we calculate the host surface brightness using unlensed quantities from CosmoDC2."
   ]
  },
  {
   "cell_type": "markdown",
   "metadata": {},
   "source": [
    "### 1. Load SN data"
   ]
  },
  {
   "cell_type": "code",
   "execution_count": 2,
   "metadata": {},
   "outputs": [
    {
     "name": "stdout",
     "output_type": "stream",
     "text": [
      "(588212, 11)\n",
      "(4441, 4)\n"
     ]
    }
   ],
   "source": [
    "# Load SN data\n",
    "sn_db = '/global/projecta/projectdirs/lsst/groups/SSim/DC2/cosmoDC2_v1.1.4/sne_cosmoDC2_v1.1.4_MS_DDF.db'\n",
    "engine = create_engine('sqlite:///' + sn_db)\n",
    "sn_df = pd.read_sql_table('sne_params', con=engine)\n",
    "\n",
    "# Query real galaxies (those with ID > 1250000000)\n",
    "# ... and only galaxies within DDF region\n",
    "print(sn_df.shape)\n",
    "sn_df = sn_df.query('galaxy_id > 1250000000')\\\n",
    ".query('snra_in < 53.77 and snra_in > 52.479')\\\n",
    ".query('sndec_in < -27.533 and sndec_in > -28.667')[['galaxy_id', 'snra_in', 'sndec_in', 'snid_in']]\n",
    "print(sn_df.shape)"
   ]
  },
  {
   "cell_type": "markdown",
   "metadata": {},
   "source": [
    "### 2. Load host galaxy data"
   ]
  },
  {
   "cell_type": "code",
   "execution_count": 4,
   "metadata": {},
   "outputs": [],
   "source": [
    "# Load extragalactic catalog to join with host gal ID\n",
    "cosmodc2_gcr = GCRCatalogs.load_catalog('cosmoDC2_v1.1.4_image')"
   ]
  },
  {
   "cell_type": "code",
   "execution_count": 3,
   "metadata": {},
   "outputs": [],
   "source": [
    "# Host galaxy properties we'll need\n",
    "quantities_needed = ['galaxy_id', 'ra_true', 'dec_true', 'bulge_to_total_ratio_i',]\n",
    "quantities_needed += ['mag_true_%s_lsst' %bp for bp in 'ugrizY']\n",
    "quantities_needed += ['size_true', 'ellipticity_true', 'position_angle_true',]\n",
    "morph_cols = ['size_%s_true', 'size_minor_%s_true', 'ellipticity_1_%s_true', 'ellipticity_2_%s_true']\n",
    "for component in ['bulge', 'disk']:\n",
    "    quantities_needed += [morph %component for morph in morph_cols]"
   ]
  },
  {
   "cell_type": "raw",
   "metadata": {},
   "source": [
    "# This cell took too long so I'm going back to Yao's method of querying by healpixel.\n",
    "\n",
    "# Define filter telling whether a cosmoDC2 object is an SN host galaxy\n",
    "sn_galaxy_id = sn_df['galaxy_id'].values\n",
    "def filter_on_galaxy_id(list_of_galaxy_id):\n",
    "    return np.isin(list_of_galaxy_id, sn_galaxy_id)\n",
    "\n",
    "# Join with cosmoDC2 to get more host galaxy properties\n",
    "cosmodc2 = cosmodc2_gcr.get_quantities(quantities_needed, filters=[(filter_on_galaxy_id, 'galaxy_id'),])"
   ]
  },
  {
   "cell_type": "code",
   "execution_count": null,
   "metadata": {},
   "outputs": [],
   "source": [
    "# Warning: This cell takes ~1.5hr to run. \n",
    "# Taken from Rahul's notebook.\n",
    "\n",
    "cosmodc2_nside = 32\n",
    "# Initialize list of single-element dataframes\n",
    "host_galaxy_props = []\n",
    "for host_id, sn_ra, sn_dec, sn_id in sn_df.values:\n",
    "    # Get pixels corresponding to this SN location\n",
    "    pixels = [hp.ang2pix(cosmodc2_nside, sn_ra, sn_dec, lonlat=True)]\n",
    "    pixels.extend(hp.get_all_neighbours(cosmodc2_nside, sn_ra, sn_dec, lonlat=True))\n",
    "    for pixel in pixels:\n",
    "        # TODO: check redshift range\n",
    "        # remove 'redshift_block_lower == 0' in `native_filters` below if expecting high-z hosts\n",
    "        host_data = cosmodc2_gcr.get_quantities(quantities_needed, \n",
    "            filters='galaxy_id == {}'.format(host_id), \n",
    "            native_filters=['healpix_pixel == {}'.format(pixel), 'redshift_block_lower == 0',])\n",
    "        # If host is found in pixel, add to bigger list of single host galaxy dfs\n",
    "        if len(host_data[quantities_needed[0]]):\n",
    "            host_data['snid'] = sn_id\n",
    "            this_host_df = pd.DataFrame(host_data)\n",
    "            host_galaxy_props.append(this_host_df)\n",
    "            break\n",
    "    if len(host_galaxy_props)%500 == 0:\n",
    "        print(500, \" done\")\n",
    "    \n",
    "hostgal = pd.concat(host_galaxy_props, ignore_index=True)\n",
    "\n",
    "hostgal.to_csv('hostgal.csv', index=False)"
   ]
  },
  {
   "cell_type": "code",
   "execution_count": 4,
   "metadata": {},
   "outputs": [],
   "source": [
    "hostgal = pd.read_csv('hostgal_small.csv', index_col=False)"
   ]
  },
  {
   "cell_type": "markdown",
   "metadata": {},
   "source": [
    "### 3. Approximate each host galaxy as a Gaussian mixture to enable analytic PSF convolution\n",
    "\n",
    "Note: `MoG` stands for \"mixture of Gaussians.\""
   ]
  },
  {
   "cell_type": "code",
   "execution_count": 5,
   "metadata": {},
   "outputs": [],
   "source": [
    "# Format catalog with unit conversions and column renaming\n",
    "hostgal_formatted = mog_utils._format_extragal_catalog(hostgal)\n",
    "#hostgal_formatted.columns"
   ]
  },
  {
   "cell_type": "code",
   "execution_count": 6,
   "metadata": {},
   "outputs": [],
   "source": [
    "# Separate galaxy catalog into bulge and disk --> params of 2 Sersics\n",
    "bulge, disk, _ = mog_utils.separate_bulge_disk(hostgal_formatted)\n",
    "#bulge.head()"
   ]
  },
  {
   "cell_type": "code",
   "execution_count": 7,
   "metadata": {},
   "outputs": [],
   "source": [
    "# Deconstruct bulge/disk into MoG --> Params of 18 Gaussians\n",
    "bulge_mog = mog_utils.sersic_to_mog(sersic_df=bulge, bulge_or_disk='bulge')\n",
    "disk_mog = mog_utils.sersic_to_mog(sersic_df=disk, bulge_or_disk='disk')\n",
    "#bulge_mog.head(20)"
   ]
  },
  {
   "cell_type": "code",
   "execution_count": 8,
   "metadata": {},
   "outputs": [],
   "source": [
    "# Concat bulge and disk MoGs\n",
    "full_mog = pd.concat([bulge_mog, disk_mog], axis=0)"
   ]
  },
  {
   "cell_type": "code",
   "execution_count": 9,
   "metadata": {},
   "outputs": [],
   "source": [
    "# Apply circular PSF\n",
    "nominal_PSF = 0.7 # fwhm in arcsec\n",
    "full_mog['gauss_sigma'] += units.fwhm_to_sigma(nominal_PSF)**2.0"
   ]
  },
  {
   "cell_type": "markdown",
   "metadata": {},
   "source": [
    "### 4. Evaluate the surface brightness at the location of SN"
   ]
  },
  {
   "cell_type": "code",
   "execution_count": 10,
   "metadata": {},
   "outputs": [],
   "source": [
    "# Join MoG df with SN df to get information about SN\n",
    "full_mog_sn = full_mog.merge(sn_df, how='left', on='galaxy_id')"
   ]
  },
  {
   "cell_type": "code",
   "execution_count": 11,
   "metadata": {},
   "outputs": [],
   "source": [
    "# Get ra, dec offset in arcsec of the SN from host galaxy center\n",
    "dec_in_radians = np.deg2rad(units.arcsec_to_deg(full_mog_sn['dec'].values))\n",
    "full_mog_sn['ra_offset'] = (units.deg_to_arcsec(full_mog_sn['snra_in'].values) - full_mog_sn['ra'].values)*np.cos(dec_in_radians)\n",
    "full_mog_sn['dec_offset'] = units.deg_to_arcsec(full_mog_sn['sndec_in'].values) - full_mog_sn['dec'].values"
   ]
  },
  {
   "cell_type": "code",
   "execution_count": 28,
   "metadata": {},
   "outputs": [],
   "source": [
    "# Evaluate each Gaussian at the offset (SN location)\n",
    "\n",
    "# Pre-fetch some columns\n",
    "sigmas = full_mog_sn['gauss_sigma'].values\n",
    "ellips = full_mog_sn['e'].values\n",
    "phis = full_mog_sn['phi'].values\n",
    "ra_offsets = full_mog_sn['ra_offset'].values\n",
    "dec_offsets = full_mog_sn['dec_offset'].values\n",
    "\n",
    "profiles = {}\n",
    "for bp in 'ugrizY':\n",
    "    # Create a 2D elliptical Gaussian surface brightness profile for each component of MoG\n",
    "    profile_bp = mog_utils.get_2d_gaussian(flux_array=full_mog_sn['flux_%s' %bp].values,\n",
    "                                           sigma_array=sigmas, ellip_array=ellips, phi_array=phis)\n",
    "    # Evaluate surface brightness at SN location\n",
    "    #full_mog_sn['sb_%s' %bp] = profile_bp(ra_offsets, dec_offsets)\n",
    "    full_mog_sn['sb_%s' %bp] = profile_bp(0.5, 0.5)\n",
    "    profiles[bp] = profile_bp"
   ]
  },
  {
   "cell_type": "code",
   "execution_count": 29,
   "metadata": {},
   "outputs": [
    {
     "data": {
      "text/html": [
       "<div>\n",
       "<style scoped>\n",
       "    .dataframe tbody tr th:only-of-type {\n",
       "        vertical-align: middle;\n",
       "    }\n",
       "\n",
       "    .dataframe tbody tr th {\n",
       "        vertical-align: top;\n",
       "    }\n",
       "\n",
       "    .dataframe thead th {\n",
       "        text-align: right;\n",
       "    }\n",
       "</style>\n",
       "<table border=\"1\" class=\"dataframe\">\n",
       "  <thead>\n",
       "    <tr style=\"text-align: right;\">\n",
       "      <th></th>\n",
       "      <th>sb_u</th>\n",
       "      <th>sb_g</th>\n",
       "      <th>sb_r</th>\n",
       "      <th>sb_i</th>\n",
       "      <th>sb_z</th>\n",
       "      <th>sb_Y</th>\n",
       "    </tr>\n",
       "    <tr>\n",
       "      <th>galaxy_id</th>\n",
       "      <th></th>\n",
       "      <th></th>\n",
       "      <th></th>\n",
       "      <th></th>\n",
       "      <th></th>\n",
       "      <th></th>\n",
       "    </tr>\n",
       "  </thead>\n",
       "  <tbody>\n",
       "    <tr>\n",
       "      <th>1875009351</th>\n",
       "      <td>0.957108</td>\n",
       "      <td>4.748626</td>\n",
       "      <td>12.193667</td>\n",
       "      <td>18.381966</td>\n",
       "      <td>23.807991</td>\n",
       "      <td>29.308497</td>\n",
       "    </tr>\n",
       "    <tr>\n",
       "      <th>1875009371</th>\n",
       "      <td>0.629318</td>\n",
       "      <td>3.095265</td>\n",
       "      <td>7.811058</td>\n",
       "      <td>12.040593</td>\n",
       "      <td>15.748728</td>\n",
       "      <td>19.382593</td>\n",
       "    </tr>\n",
       "    <tr>\n",
       "      <th>1875009381</th>\n",
       "      <td>0.883667</td>\n",
       "      <td>4.266570</td>\n",
       "      <td>10.452767</td>\n",
       "      <td>15.520741</td>\n",
       "      <td>20.185655</td>\n",
       "      <td>24.284125</td>\n",
       "    </tr>\n",
       "    <tr>\n",
       "      <th>1875015808</th>\n",
       "      <td>0.305741</td>\n",
       "      <td>1.473632</td>\n",
       "      <td>4.130230</td>\n",
       "      <td>6.515717</td>\n",
       "      <td>8.505280</td>\n",
       "      <td>10.449546</td>\n",
       "    </tr>\n",
       "    <tr>\n",
       "      <th>1875028352</th>\n",
       "      <td>0.351184</td>\n",
       "      <td>1.757224</td>\n",
       "      <td>4.974376</td>\n",
       "      <td>7.611002</td>\n",
       "      <td>9.757906</td>\n",
       "      <td>11.831391</td>\n",
       "    </tr>\n",
       "  </tbody>\n",
       "</table>\n",
       "</div>"
      ],
      "text/plain": [
       "                sb_u      sb_g       sb_r       sb_i       sb_z       sb_Y\n",
       "galaxy_id                                                                 \n",
       "1875009351  0.957108  4.748626  12.193667  18.381966  23.807991  29.308497\n",
       "1875009371  0.629318  3.095265   7.811058  12.040593  15.748728  19.382593\n",
       "1875009381  0.883667  4.266570  10.452767  15.520741  20.185655  24.284125\n",
       "1875015808  0.305741  1.473632   4.130230   6.515717   8.505280  10.449546\n",
       "1875028352  0.351184  1.757224   4.974376   7.611002   9.757906  11.831391"
      ]
     },
     "execution_count": 29,
     "metadata": {},
     "output_type": "execute_result"
    }
   ],
   "source": [
    "# Sum across Gaussisan components\n",
    "sb_all_bands = full_mog_sn.groupby(['galaxy_id',])[['sb_%s' %bp for bp in 'ugrizY']].sum()\n",
    "sb_all_bands.head()"
   ]
  },
  {
   "cell_type": "code",
   "execution_count": 30,
   "metadata": {},
   "outputs": [],
   "source": [
    "# Convert flux into mag\n",
    "for bp in 'ugrizY':\n",
    "    sb_all_bands['mag_sb_%s' %bp] = units.flux_to_mag(sb_all_bands['sb_%s' %bp].values, from_unit='nMgy')"
   ]
  },
  {
   "cell_type": "code",
   "execution_count": 31,
   "metadata": {},
   "outputs": [],
   "source": [
    "# Drop infinite mags (zero fluxes)\n",
    "with pd.option_context('mode.use_inf_as_null', True):\n",
    "    finite_sb_all_bands = sb_all_bands.dropna()"
   ]
  },
  {
   "cell_type": "markdown",
   "metadata": {},
   "source": [
    "### 3. Visualize"
   ]
  },
  {
   "cell_type": "markdown",
   "metadata": {},
   "source": [
    "Surface brightness is very very dim. Could the problem be the distance from SN to host center?"
   ]
  },
  {
   "cell_type": "code",
   "execution_count": 33,
   "metadata": {},
   "outputs": [
    {
     "data": {
      "text/plain": [
       "Text(0,0.5,'count')"
      ]
     },
     "execution_count": 33,
     "metadata": {},
     "output_type": "execute_result"
    },
    {
     "data": {
      "image/png": "[encoded data removed]",
      "text/plain": [
       "<Figure size 432x288 with 1 Axes>"
      ]
     },
     "metadata": {
      "needs_background": "light"
     },
     "output_type": "display_data"
    }
   ],
   "source": [
    "color_dict = {'u': 'purple', 'g': 'blue', 'r': 'green', 'i': 'yellow', 'z': 'orange', 'Y': 'red'}\n",
    "for bp in 'ugrizY':\n",
    "    #plt.hist(finite_sb_all_bands['mag_sb_%s' %bp], range=[20.0, 1000.0], histtype='step', facecolor=color_dict[bp], label=bp, bins=30)\n",
    "    plt.hist(finite_sb_all_bands['mag_sb_%s' %bp], range=[15.0, 40.0], histtype='step', facecolor=color_dict[bp], label=bp, bins=30)\n",
    "plt.legend()\n",
    "#plt.xlabel(\"surface brightness at SN location in mag/asec^2\")\n",
    "plt.xlabel(\"surface brightness ~0.5asec away from center in mag/asec^2\")\n",
    "plt.ylabel(\"count\")"
   ]
  },
  {
   "cell_type": "markdown",
   "metadata": {},
   "source": [
    "How far are the SNs from the host galaxy center? Seems far..."
   ]
  },
  {
   "cell_type": "code",
   "execution_count": 17,
   "metadata": {},
   "outputs": [
    {
     "data": {
      "text/plain": [
       "Text(0.5,0,'distance from SN to host center in arcsec')"
      ]
     },
     "execution_count": 17,
     "metadata": {},
     "output_type": "execute_result"
    },
    {
     "data": {
      "image/png": "[encoded data removed]",
      "text/plain": [
       "<Figure size 432x288 with 1 Axes>"
      ]
     },
     "metadata": {
      "needs_background": "light"
     },
     "output_type": "display_data"
    }
   ],
   "source": [
    "simple_join = hostgal.merge(sn_df, how='left', on='galaxy_id')\n",
    "ra_host = simple_join['ra_true'].values\n",
    "dec_host = simple_join['dec_true'].values\n",
    "ra_sn = simple_join['snra_in'].values\n",
    "dec_sn = simple_join['sndec_in'].values\n",
    "angular_sep = angularSeparation(ra_host, dec_host, ra_sn, dec_sn) # deg\n",
    "_ = plt.hist(units.deg_to_arcsec(angular_sep), bins=30)\n",
    "plt.ylabel(\"count\")\n",
    "plt.xlabel(\"distance from SN to host center / hlr of host\")\n",
    "plt.ylabel(\"count\")\n",
    "plt.xlabel(\"distance from SN to host center in arcsec\")"
   ]
  },
  {
   "cell_type": "markdown",
   "metadata": {},
   "source": [
    "How many HLRs away from the host center are the SNs?\n",
    "Too many... problem!"
   ]
  },
  {
   "cell_type": "code",
   "execution_count": 18,
   "metadata": {},
   "outputs": [
    {
     "data": {
      "text/plain": [
       "Text(0.5,0,'distance from SN to host center / hlr of host')"
      ]
     },
     "execution_count": 18,
     "metadata": {},
     "output_type": "execute_result"
    },
    {
     "data": {
      "image/png": "[encoded data removed]",
      "text/plain": [
       "<Figure size 432x288 with 1 Axes>"
      ]
     },
     "metadata": {
      "needs_background": "light"
     },
     "output_type": "display_data"
    }
   ],
   "source": [
    "_ = plt.hist(units.deg_to_arcsec(angular_sep)/simple_join['size_true'].values, bins=30)\n",
    "plt.ylabel(\"count\")\n",
    "plt.xlabel(\"distance from SN to host center / hlr of host\")"
   ]
  },
  {
   "cell_type": "markdown",
   "metadata": {},
   "source": [
    "Host magnitude for reference"
   ]
  },
  {
   "cell_type": "code",
   "execution_count": 27,
   "metadata": {},
   "outputs": [
    {
     "data": {
      "text/plain": [
       "Text(0,0.5,'count')"
      ]
     },
     "execution_count": 27,
     "metadata": {},
     "output_type": "execute_result"
    },
    {
     "data": {
      "image/png": "[encoded data removed]",
      "text/plain": [
       "<Figure size 432x288 with 1 Axes>"
      ]
     },
     "metadata": {
      "needs_background": "light"
     },
     "output_type": "display_data"
    }
   ],
   "source": [
    "for bp in 'ugrizY':\n",
    "    plt.hist(simple_join['mag_true_%s_lsst' %bp], histtype='step', facecolor=color_dict[bp], label=bp, bins=20)\n",
    "    #plt.hist(finite_sb_all_bands['mag_sb_%s' %bp], range=[15.0, 40.0], histtype='step', facecolor=color_dict[bp], label=bp, bins=30)\n",
    "plt.legend()\n",
    "plt.xlabel(\"Magnitude of host\")\n",
    "plt.ylabel(\"count\")"
   ]
  },
  {
   "cell_type": "markdown",
   "metadata": {},
   "source": [
    "### 4. (Further check) Compare Sersic vs. MoG profiles without PSF"
   ]
  }
 ],
 "metadata": {
  "kernelspec": {
   "display_name": "desc-stack",
   "language": "python",
   "name": "desc-stack"
  },
  "language_info": {
   "codemirror_mode": {
    "name": "ipython",
    "version": 3
   },
   "file_extension": ".py",
   "mimetype": "text/x-python",
   "name": "python",
   "nbconvert_exporter": "python",
   "pygments_lexer": "ipython3",
   "version": "3.6.6"
  }
 },
 "nbformat": 4,
 "nbformat_minor": 2
}
