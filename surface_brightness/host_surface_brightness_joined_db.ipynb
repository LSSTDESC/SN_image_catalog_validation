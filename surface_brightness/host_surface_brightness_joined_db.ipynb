{
 "cells": [
  {
   "cell_type": "code",
   "execution_count": 3,
   "metadata": {},
   "outputs": [],
   "source": [
    "import numpy as np\n",
    "import pandas as pd\n",
    "import healpy as hp\n",
    "import GCRCatalogs\n",
    "import os, sys\n",
    "from GCR import GCRQuery\n",
    "from sqlalchemy import create_engine\n",
    "import mog_utils\n",
    "import units\n",
    "import matplotlib.pyplot as plt\n",
    "from lsst.sims.utils import angularSeparation\n",
    "\n",
    "%matplotlib inline\n",
    "%load_ext autoreload\n",
    "%autoreload 2\n",
    "pd.options.display.max_columns = None"
   ]
  },
  {
   "cell_type": "markdown",
   "metadata": {},
   "source": [
    "## Surface brightness of SN host galaxies\n",
    "\n",
    "Author: Ji Won Park (@jiwoncpark) via discussions with Rahul Biswas (@rbiswas4)\n",
    "\n",
    "Last Run: 4/30/2019\n",
    "\n",
    "- __Objective__: To find a distribution of the surface brightness of the host galaxy at the location of the SNe in the DDF region.\n",
    "- __Motivation__: Image subtraction is used to detect the SN. As can be seen in Fig 10 of [Kessler et al 2015](https://arxiv.org/pdf/1507.05137.pdf), however, the precision of the DES image subtraction algorithm gets worse with surface brightness between 20.5 and 22. This is because the high surface brightness causes the background to be bright and reduces the contrast of SN against the background. We want to ensure that DC2 includes this range of background brightness so as to test the performance of our image subtraction in the challenging environment. \n",
    "- __Assumptions__: \n",
    "    - While the background is technically the PSF-convolved brightness of all nearby galaxies summed over, for simplicity we use the PSF-convolved host galaxy brightness as a proxy for background.\n",
    "    - CosmoDC2 models galaxies as de Vaucouleurs bulge plus exponential disk. We use the prescription in [Hogg and Lang 2013](https://arxiv.org/abs/1210.6563) to approximate each component (bulge or disk) as a mixture of Gaussians so that PSF convolution can be made analytical.\n",
    "    - We use a circular Gaussian PSF with FWHM 0.7\".\n",
    "    - Assuming that the instance catalogs use unlensed conventions for the SN position (needs confirming), we calculate the host surface brightness using unlensed quantities from CosmoDC2."
   ]
  },
  {
   "cell_type": "markdown",
   "metadata": {},
   "source": [
    "### 1-2. Read in prefetched catalog of host galaxy and SN quantities\n",
    "\n",
    "See notebook `host_surface_brightness.ipynb` in the same directory to learn how to fetch this catalog. Here, we simply read one in."
   ]
  },
  {
   "cell_type": "code",
   "execution_count": 4,
   "metadata": {},
   "outputs": [],
   "source": [
    "hostgal_sn_path = '/global/projecta/projectdirs/lsst/groups/SSim/DC2/cosmoDC2_v1.1.4/ddf_region_galaxy_catalog/DDF_sn_host_pairs.csv'\n",
    "hostgal_sn = pd.read_csv(hostgal_sn_path, index_col=False)\n",
    "\n",
    "# This subset of columns correspond to SN columns\n",
    "sn_columns = ['galaxy_id', 'htmid_level_6', 'c_in', 'mB', 't0_in', 'x0_in', 'x1_in', 'z_in', 'snid_in', 'snra_in', 'sndec_in']\n",
    "sn = hostgal_sn[sn_columns].copy()"
   ]
  },
  {
   "cell_type": "markdown",
   "metadata": {},
   "source": [
    "### 3. Approximate each host galaxy as a Gaussian mixture to enable analytic PSF convolution\n",
    "\n",
    "Note: `MoG` stands for \"mixture of Gaussians.\""
   ]
  },
  {
   "cell_type": "code",
   "execution_count": 5,
   "metadata": {},
   "outputs": [],
   "source": [
    "# Format catalog with unit conversions and column renaming\n",
    "hostgal_formatted = mog_utils._format_extragal_catalog(hostgal_sn)\n",
    "#hostgal_formatted.columns"
   ]
  },
  {
   "cell_type": "code",
   "execution_count": 6,
   "metadata": {},
   "outputs": [],
   "source": [
    "# Separate galaxy catalog into bulge and disk --> params of 2 Sersics\n",
    "bulge, disk, _ = mog_utils.separate_bulge_disk(hostgal_formatted)\n",
    "#bulge.head()"
   ]
  },
  {
   "cell_type": "code",
   "execution_count": 7,
   "metadata": {},
   "outputs": [],
   "source": [
    "# Deconstruct bulge/disk into MoG --> Params of 18 Gaussians\n",
    "bulge_mog = mog_utils.sersic_to_mog(sersic_df=bulge, bulge_or_disk='bulge')\n",
    "disk_mog = mog_utils.sersic_to_mog(sersic_df=disk, bulge_or_disk='disk')\n",
    "#bulge_mog.head(20)"
   ]
  },
  {
   "cell_type": "code",
   "execution_count": 8,
   "metadata": {},
   "outputs": [],
   "source": [
    "# Concat bulge and disk MoGs\n",
    "full_mog = pd.concat([bulge_mog, disk_mog], axis=0)"
   ]
  },
  {
   "cell_type": "code",
   "execution_count": 9,
   "metadata": {},
   "outputs": [],
   "source": [
    "# Apply circular PSF\n",
    "nominal_PSF = 0.7 # fwhm in arcsec\n",
    "full_mog['gauss_sigma'] += units.fwhm_to_sigma(nominal_PSF)**2.0"
   ]
  },
  {
   "cell_type": "markdown",
   "metadata": {},
   "source": [
    "### 4. Evaluate the surface brightness at the location of SN"
   ]
  },
  {
   "cell_type": "code",
   "execution_count": 10,
   "metadata": {},
   "outputs": [],
   "source": [
    "# Join MoG df with SN df to get information about SN\n",
    "\n",
    "full_mog_sn = full_mog.merge(sn, how='left', on='galaxy_id')"
   ]
  },
  {
   "cell_type": "code",
   "execution_count": 11,
   "metadata": {},
   "outputs": [
    {
     "data": {
      "text/plain": [
       "Index(['galaxy_id', 'ra', 'dec', 'e', 'phi', 'gauss_sigma', 'flux_u', 'flux_g',\n",
       "       'flux_r', 'flux_i', 'flux_z', 'flux_Y', 'htmid_level_6', 'c_in', 'mB',\n",
       "       't0_in', 'x0_in', 'x1_in', 'z_in', 'snid_in', 'snra_in', 'sndec_in'],\n",
       "      dtype='object')"
      ]
     },
     "execution_count": 11,
     "metadata": {},
     "output_type": "execute_result"
    }
   ],
   "source": [
    "full_mog_sn.columns"
   ]
  },
  {
   "cell_type": "code",
   "execution_count": 12,
   "metadata": {},
   "outputs": [],
   "source": [
    "# Get ra, dec offset in arcsec of the SN from host galaxy center\n",
    "dec_in_radians = np.deg2rad(units.arcsec_to_deg(full_mog_sn['dec'].values))\n",
    "full_mog_sn['ra_offset'] = (units.deg_to_arcsec(full_mog_sn['snra_in'].values) - full_mog_sn['ra'].values)*np.cos(dec_in_radians)\n",
    "full_mog_sn['dec_offset'] = units.deg_to_arcsec(full_mog_sn['sndec_in'].values) - full_mog_sn['dec'].values"
   ]
  },
  {
   "cell_type": "code",
   "execution_count": 13,
   "metadata": {},
   "outputs": [],
   "source": [
    "# Evaluate each Gaussian at the offset (SN location)\n",
    "\n",
    "# Pre-fetch some columns\n",
    "sigmas = full_mog_sn['gauss_sigma'].values\n",
    "ellips = full_mog_sn['e'].values\n",
    "phis = full_mog_sn['phi'].values\n",
    "ra_offsets = full_mog_sn['ra_offset'].values\n",
    "dec_offsets = full_mog_sn['dec_offset'].values\n",
    "\n",
    "profiles = {}\n",
    "for bp in 'ugrizY':\n",
    "    # Create a 2D elliptical Gaussian surface brightness profile for each component of MoG\n",
    "    profile_bp = mog_utils.get_2d_gaussian(flux_array=full_mog_sn['flux_%s' %bp].values,\n",
    "                                           sigma_array=sigmas, ellip_array=ellips, phi_array=phis)\n",
    "    # Evaluate surface brightness at SN location\n",
    "    full_mog_sn['sb_%s' %bp] = profile_bp(ra_offsets, dec_offsets)\n",
    "    #full_mog_sn['sb_%s' %bp] = profile_bp(0.5, 0.5)\n",
    "    profiles[bp] = profile_bp"
   ]
  },
  {
   "cell_type": "code",
   "execution_count": 14,
   "metadata": {},
   "outputs": [
    {
     "data": {
      "text/html": [
       "<div>\n",
       "<style scoped>\n",
       "    .dataframe tbody tr th:only-of-type {\n",
       "        vertical-align: middle;\n",
       "    }\n",
       "\n",
       "    .dataframe tbody tr th {\n",
       "        vertical-align: top;\n",
       "    }\n",
       "\n",
       "    .dataframe thead th {\n",
       "        text-align: right;\n",
       "    }\n",
       "</style>\n",
       "<table border=\"1\" class=\"dataframe\">\n",
       "  <thead>\n",
       "    <tr style=\"text-align: right;\">\n",
       "      <th></th>\n",
       "      <th>sb_u</th>\n",
       "      <th>sb_g</th>\n",
       "      <th>sb_r</th>\n",
       "      <th>sb_i</th>\n",
       "      <th>sb_z</th>\n",
       "      <th>sb_Y</th>\n",
       "    </tr>\n",
       "    <tr>\n",
       "      <th>galaxy_id</th>\n",
       "      <th></th>\n",
       "      <th></th>\n",
       "      <th></th>\n",
       "      <th></th>\n",
       "      <th></th>\n",
       "      <th></th>\n",
       "    </tr>\n",
       "  </thead>\n",
       "  <tbody>\n",
       "    <tr>\n",
       "      <th>1250000121</th>\n",
       "      <td>1.389688</td>\n",
       "      <td>4.509560</td>\n",
       "      <td>7.063084</td>\n",
       "      <td>8.748124</td>\n",
       "      <td>9.696141</td>\n",
       "      <td>10.451796</td>\n",
       "    </tr>\n",
       "    <tr>\n",
       "      <th>1250000621</th>\n",
       "      <td>0.309514</td>\n",
       "      <td>0.988154</td>\n",
       "      <td>1.814200</td>\n",
       "      <td>2.555619</td>\n",
       "      <td>3.256615</td>\n",
       "      <td>3.824639</td>\n",
       "    </tr>\n",
       "    <tr>\n",
       "      <th>1250001962</th>\n",
       "      <td>0.000003</td>\n",
       "      <td>0.000014</td>\n",
       "      <td>0.000032</td>\n",
       "      <td>0.000046</td>\n",
       "      <td>0.000059</td>\n",
       "      <td>0.000069</td>\n",
       "    </tr>\n",
       "    <tr>\n",
       "      <th>1250002033</th>\n",
       "      <td>0.467065</td>\n",
       "      <td>1.713005</td>\n",
       "      <td>2.940691</td>\n",
       "      <td>3.820274</td>\n",
       "      <td>4.506172</td>\n",
       "      <td>4.994778</td>\n",
       "    </tr>\n",
       "    <tr>\n",
       "      <th>1250004772</th>\n",
       "      <td>0.322235</td>\n",
       "      <td>0.997013</td>\n",
       "      <td>1.901771</td>\n",
       "      <td>2.683098</td>\n",
       "      <td>3.404478</td>\n",
       "      <td>4.038988</td>\n",
       "    </tr>\n",
       "  </tbody>\n",
       "</table>\n",
       "</div>"
      ],
      "text/plain": [
       "                sb_u      sb_g      sb_r      sb_i      sb_z       sb_Y\n",
       "galaxy_id                                                              \n",
       "1250000121  1.389688  4.509560  7.063084  8.748124  9.696141  10.451796\n",
       "1250000621  0.309514  0.988154  1.814200  2.555619  3.256615   3.824639\n",
       "1250001962  0.000003  0.000014  0.000032  0.000046  0.000059   0.000069\n",
       "1250002033  0.467065  1.713005  2.940691  3.820274  4.506172   4.994778\n",
       "1250004772  0.322235  0.997013  1.901771  2.683098  3.404478   4.038988"
      ]
     },
     "execution_count": 14,
     "metadata": {},
     "output_type": "execute_result"
    }
   ],
   "source": [
    "# Sum across Gaussisan components\n",
    "sb_all_bands = full_mog_sn.groupby(['galaxy_id',])[['sb_%s' %bp for bp in 'ugrizY']].sum()\n",
    "sb_all_bands.head()"
   ]
  },
  {
   "cell_type": "code",
   "execution_count": 15,
   "metadata": {},
   "outputs": [
    {
     "name": "stderr",
     "output_type": "stream",
     "text": [
      "/global/u1/j/jwp/DC2/SN_image_catalog_validation/surface_brightness/units.py:6: RuntimeWarning: divide by zero encountered in log10\n",
      "  return zeropoint_mag - 2.5*np.log10(flux)\n"
     ]
    }
   ],
   "source": [
    "# Convert flux into mag\n",
    "for bp in 'ugrizY':\n",
    "    sb_all_bands['mag_sb_%s' %bp] = units.flux_to_mag(sb_all_bands['sb_%s' %bp].values, from_unit='nMgy')"
   ]
  },
  {
   "cell_type": "code",
   "execution_count": 16,
   "metadata": {},
   "outputs": [],
   "source": [
    "# Drop infinite mags (zero fluxes)\n",
    "with pd.option_context('mode.use_inf_as_null', True):\n",
    "    finite_sb_all_bands = sb_all_bands.dropna()"
   ]
  },
  {
   "cell_type": "markdown",
   "metadata": {},
   "source": [
    "### 3. Visualize"
   ]
  },
  {
   "cell_type": "markdown",
   "metadata": {},
   "source": [
    "Surface brightness is very very dim. Could the problem be the distance from SN to host center?"
   ]
  },
  {
   "cell_type": "code",
   "execution_count": 58,
   "metadata": {},
   "outputs": [
    {
     "data": {
      "image/png": "[encoded data removed]",
      "text/plain": [
       "<Figure size 432x288 with 1 Axes>"
      ]
     },
     "metadata": {
      "needs_background": "light"
     },
     "output_type": "display_data"
    }
   ],
   "source": [
    "color_dict = {'u': 'tab:purple', 'g': 'tab:blue', 'r': 'tab:cyan', 'i': 'tab:green', 'z': 'tab:orange', 'Y': 'tab:red'}\n",
    "for bp in 'ugrizY':\n",
    "    plt.hist(finite_sb_all_bands['mag_sb_%s' %bp], range=[15.0, 40.0], histtype='step', color=color_dict[bp], label=bp, bins=30)\n",
    "    #plt.hist(finite_sb_all_bands['mag_sb_%s' %bp], range=[15.0, 40.0], histtype='step', color=color_dict[bp], label=bp, bins=30)\n",
    "plt.legend()\n",
    "plt.xlabel(\"surface brightness at SN location in mag/asec^2\")\n",
    "#plt.xlabel(\"surface brightness ~0.5asec away in RA, Dec from center in mag/asec^2\")\n",
    "plt.ylabel(\"count\")\n",
    "plt.savefig('host_surface_brightness_at_sn_locations.pdf')"
   ]
  },
  {
   "cell_type": "code",
   "execution_count": 76,
   "metadata": {},
   "outputs": [
    {
     "data": {
      "image/png": "[encoded data removed]",
      "text/plain": [
       "<Figure size 288x864 with 7 Axes>"
      ]
     },
     "metadata": {
      "needs_background": "light"
     },
     "output_type": "display_data"
    }
   ],
   "source": [
    "fig, ax = plt.subplots(6, sharex=False, sharey=True, figsize=(4, 12))\n",
    "fig.add_subplot(111, frameon=False)\n",
    "x_major_ticks = np.arange(15, 40.5, 5)\n",
    "x_minor_ticks = np.arange(15, 40.5, 1)\n",
    "y_ticks = np.arange(0, 8000, 2000)\n",
    "\n",
    "for ax_idx, bp in enumerate('ugrizY'):\n",
    "    _ = ax[ax_idx].hist(finite_sb_all_bands['mag_sb_%s' %bp], range=[15.0, 40.0], histtype='step', color=color_dict[bp], label=bp, bins=30)\n",
    "    ax[ax_idx].set_title(bp)\n",
    "    ax[ax_idx].set_xticks(major_ticks)\n",
    "    ax[ax_idx].set_xticks(minor_ticks, minor=True)\n",
    "    ax[ax_idx].set_yticks(y_ticks)\n",
    "    ax[ax_idx].grid(which='major', alpha=0.5, linestyle='--')\n",
    "    ax[ax_idx].grid(which='minor', alpha=0.2, linestyle='--')\n",
    "    \n",
    "fig.tight_layout()\n",
    "plt.xlabel(\"surface brightness at SN location in mag/asec^2\")\n",
    "plt.ylabel(\"count\")\n",
    "plt.tick_params(labelcolor='none', top=False, bottom=False, left=False, right=False)\n",
    "\n",
    "plt.savefig('per_band_host_surface_brightness_at_sn_locations.pdf')"
   ]
  },
  {
   "cell_type": "markdown",
   "metadata": {},
   "source": [
    "How far are the SNs from the host galaxy center? Seems far..."
   ]
  },
  {
   "cell_type": "code",
   "execution_count": 22,
   "metadata": {},
   "outputs": [
    {
     "data": {
      "text/plain": [
       "Text(0.5,0,'distance from SN to host center in arcsec')"
      ]
     },
     "execution_count": 22,
     "metadata": {},
     "output_type": "execute_result"
    },
    {
     "data": {
      "image/png": "[encoded data removed]",
      "text/plain": [
       "<Figure size 432x288 with 1 Axes>"
      ]
     },
     "metadata": {
      "needs_background": "light"
     },
     "output_type": "display_data"
    }
   ],
   "source": [
    "simple_join = hostgal_sn\n",
    "ra_host = units.arcsec_to_deg(simple_join['ra'].values)\n",
    "dec_host = units.arcsec_to_deg(simple_join['dec'].values)\n",
    "ra_sn = simple_join['snra_in'].values\n",
    "dec_sn = simple_join['sndec_in'].values\n",
    "angular_sep = angularSeparation(ra_host, dec_host, ra_sn, dec_sn) # deg\n",
    "_ = plt.hist(units.deg_to_arcsec(angular_sep), bins=30, range=(0, 15))\n",
    "plt.ylabel(\"count\")\n",
    "plt.xlabel(\"distance from SN to host center / hlr of host\")\n",
    "plt.ylabel(\"count\")\n",
    "plt.xlabel(\"distance from SN to host center in arcsec\")"
   ]
  },
  {
   "cell_type": "code",
   "execution_count": 28,
   "metadata": {},
   "outputs": [
    {
     "data": {
      "text/plain": [
       "Index(['galaxy_id', 'ra', 'dec', 'e', 'phi', 'gauss_sigma', 'flux_u', 'flux_g',\n",
       "       'flux_r', 'flux_i', 'flux_z', 'flux_Y', 'htmid_level_6', 'c_in', 'mB',\n",
       "       't0_in', 'x0_in', 'x1_in', 'z_in', 'snid_in', 'snra_in', 'sndec_in',\n",
       "       'ra_offset', 'dec_offset', 'sb_u', 'sb_g', 'sb_r', 'sb_i', 'sb_z',\n",
       "       'sb_Y'],\n",
       "      dtype='object')"
      ]
     },
     "execution_count": 28,
     "metadata": {},
     "output_type": "execute_result"
    }
   ],
   "source": [
    "full_mog_sn.columns"
   ]
  },
  {
   "cell_type": "markdown",
   "metadata": {},
   "source": [
    "How many HLRs away from the host center are the SNs?\n",
    "Too many... problem!"
   ]
  },
  {
   "cell_type": "code",
   "execution_count": 24,
   "metadata": {},
   "outputs": [
    {
     "data": {
      "text/plain": [
       "Text(0.5,0,'distance from SN to host center / effective radius of host')"
      ]
     },
     "execution_count": 24,
     "metadata": {},
     "output_type": "execute_result"
    },
    {
     "data": {
      "image/png": "[encoded data removed]",
      "text/plain": [
       "<Figure size 432x288 with 1 Axes>"
      ]
     },
     "metadata": {
      "needs_background": "light"
     },
     "output_type": "display_data"
    }
   ],
   "source": [
    "effective_bulge_radius = (simple_join['size_bulge_true'].values*simple_join['size_minor_bulge_true'].values)**0.5\n",
    "effective_disk_radius = (simple_join['size_disk_true'].values*simple_join['size_minor_disk_true'].values)**0.5\n",
    "bulge_ratio = simple_join['bulge_to_total_ratio_i']\n",
    "effective_total_radius = effective_bulge_radius*bulge_ratio + effective_disk_radius*(1.0 - bulge_ratio)\n",
    "\n",
    "_ = plt.hist(units.deg_to_arcsec(angular_sep)/effective_total_radius, bins=30, range=(0, 20))\n",
    "plt.ylabel(\"count\")\n",
    "plt.xlabel(\"distance from SN to host center / effective radius of host\")"
   ]
  },
  {
   "cell_type": "markdown",
   "metadata": {},
   "source": [
    "Host magnitude for reference"
   ]
  },
  {
   "cell_type": "code",
   "execution_count": 29,
   "metadata": {},
   "outputs": [
    {
     "data": {
      "text/plain": [
       "Text(0,0.5,'count')"
      ]
     },
     "execution_count": 29,
     "metadata": {},
     "output_type": "execute_result"
    },
    {
     "data": {
      "image/png": "[encoded data removed]",
      "text/plain": [
       "<Figure size 432x288 with 1 Axes>"
      ]
     },
     "metadata": {
      "needs_background": "light"
     },
     "output_type": "display_data"
    }
   ],
   "source": [
    "for bp in 'ugrizY':\n",
    "    plt.hist(simple_join['mag_true_%s_lsst' %bp], histtype='step', color=color_dict[bp], label=bp, bins=20)\n",
    "    #plt.hist(finite_sb_all_bands['mag_sb_%s' %bp], range=[15.0, 40.0], histtype='step', facecolor=color_dict[bp], label=bp, bins=30)\n",
    "plt.legend()\n",
    "plt.xlabel(\"Magnitude of host\")\n",
    "plt.ylabel(\"count\")"
   ]
  },
  {
   "cell_type": "markdown",
   "metadata": {},
   "source": [
    "### 4. (Further check) Compare Sersic vs. MoG profiles without PSF"
   ]
  }
 ],
 "metadata": {
  "kernelspec": {
   "display_name": "desc-stack",
   "language": "python",
   "name": "desc-stack"
  },
  "language_info": {
   "codemirror_mode": {
    "name": "ipython",
    "version": 3
   },
   "file_extension": ".py",
   "mimetype": "text/x-python",
   "name": "python",
   "nbconvert_exporter": "python",
   "pygments_lexer": "ipython3",
   "version": "3.6.6"
  }
 },
 "nbformat": 4,
 "nbformat_minor": 2
}
