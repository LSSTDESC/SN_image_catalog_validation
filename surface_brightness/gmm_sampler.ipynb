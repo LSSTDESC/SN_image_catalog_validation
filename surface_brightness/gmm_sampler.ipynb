{
 "cells": [
  {
   "cell_type": "code",
   "execution_count": 71,
   "metadata": {},
   "outputs": [
    {
     "name": "stdout",
     "output_type": "stream",
     "text": [
      "The autoreload extension is already loaded. To reload it, use:\n",
      "  %reload_ext autoreload\n"
     ]
    }
   ],
   "source": [
    "import numpy as np\n",
    "import pandas as pd\n",
    "#import healpy as hp\n",
    "#import GCRCatalogs\n",
    "import os, sys\n",
    "#from GCR import GCRQuery\n",
    "#from sqlalchemy import create_engine\n",
    "import mog_utils\n",
    "import units\n",
    "import matplotlib.pyplot as plt\n",
    "import matplotlib as mpl\n",
    "#from lsst.sims.utils import angularSeparation\n",
    "\n",
    "%matplotlib inline\n",
    "%load_ext autoreload\n",
    "%autoreload 2\n",
    "pd.options.display.max_columns = None"
   ]
  },
  {
   "cell_type": "markdown",
   "metadata": {},
   "source": [
    "## SN sampler from Gaussian mixture PDF \n",
    "\n",
    "Author: Ji Won Park (@jiwoncpark) via discussions with Rahul Biswas (@rbiswas4)\n",
    "\n",
    "Last Run: 4/30/2019\n",
    "\n",
    "- __Objective__: Given host galaxy properties, sample the location of SN.\n",
    "- __Motivation__: We can obtain a Gaussian mixture approximation to the Sersic bulge+disk profile of the host galaxy. (See notebook `host_surface_brightness.ipynb`.) Since the number of stars at a location is ~proportional to the brightness there, we can sample a star from the host galaxy by sampling from a Gaussian mixture PDF proportional to its surface brightness. If we further assume that each star has the same fixed probability of becoming a supernova, this is like sampling the location of SN within the host.\n",
    "- __Assumptions__: \n",
    "    - The host galaxies in the SN DB follow the natural distribution. \n",
    "    - Number of stars at an (ra, dec) position is proportional to the surface brightness evaluated at that point.\n",
    "    - All stars have the same fixed probability of becoming SNs."
   ]
  },
  {
   "cell_type": "markdown",
   "metadata": {},
   "source": [
    "### 1. Get GMM parameters from Sersic host galaxy"
   ]
  },
  {
   "cell_type": "code",
   "execution_count": 4,
   "metadata": {},
   "outputs": [],
   "source": [
    "# Function version of the host_surface_brightness.ipynb notebook\n",
    "def get_gmm_params(hostgal, psf_fwhm=0.7):\n",
    "    \"\"\"Approximates an elliptical Sersic profile as a mixture of 18 elliptical Gaussians\n",
    "    \n",
    "    Parameters\n",
    "    ----------\n",
    "    hostgal : Pandas DataFrame (or dictionary) containing columns (keys) noted below.\n",
    "    psf_fwhm : FWHM of a circular Gaussian PSF\n",
    "    \n",
    "    Note\n",
    "    ----\n",
    "    The input hostgal must contain all the columns (keys) in the following list `quantities_needed`:\n",
    "    >>> quantities_needed = ['galaxy_id', 'ra_true', 'dec_true', 'bulge_to_total_ratio_i',]\n",
    "    >>> quantities_needed += ['mag_true_%s_lsst' %bp for bp in 'ugrizY']\n",
    "    >>> quantities_needed += ['size_true', 'ellipticity_true', 'position_angle_true',]\n",
    "    >>> morph_cols = ['size_%s_true', 'size_minor_%s_true', 'ellipticity_1_%s_true', 'ellipticity_2_%s_true']\n",
    "    >>> for component in ['bulge', 'disk']:\n",
    "    >>>     quantities_needed += [morph %component for morph in morph_cols]\n",
    "    \n",
    "    Returns\n",
    "    -------\n",
    "    A Pandas DataFrame containing parameters of the 18 elliptical Gaussians\n",
    "    \"\"\"\n",
    "    \n",
    "    # Format catalog with unit conversions and column renaming\n",
    "    hostgal_formatted = mog_utils._format_extragal_catalog(hostgal)\n",
    "    # Separate galaxy catalog into bulge and disk --> params of 2 Sersics\n",
    "    bulge, disk, _ = mog_utils.separate_bulge_disk(hostgal_formatted)\n",
    "    # Deconstruct bulge/disk into MoG --> Params of 18 Gaussians\n",
    "    bulge_mog = mog_utils.sersic_to_mog(sersic_df=bulge, bulge_or_disk='bulge')\n",
    "    disk_mog = mog_utils.sersic_to_mog(sersic_df=disk, bulge_or_disk='disk')\n",
    "    # Concat bulge and disk MoGs\n",
    "    full_mog = pd.concat([bulge_mog, disk_mog], axis=0)\n",
    "    return full_mog"
   ]
  },
  {
   "cell_type": "code",
   "execution_count": 31,
   "metadata": {},
   "outputs": [],
   "source": [
    "# Read in a single host galaxy\n",
    "hostgal = pd.read_csv('hostgal_small.csv', index_col=False, nrows=1)\n",
    "# Return GMM params\n",
    "gmm_params = get_gmm_params(hostgal, psf_fwhm=0.7)"
   ]
  },
  {
   "cell_type": "code",
   "execution_count": 32,
   "metadata": {},
   "outputs": [
    {
     "data": {
      "text/plain": [
       "((18, 12),\n",
       " array(['galaxy_id', 'ra', 'dec', 'e', 'phi', 'gauss_sigma', 'flux_u',\n",
       "        'flux_g', 'flux_r', 'flux_i', 'flux_z', 'flux_Y'], dtype=object))"
      ]
     },
     "execution_count": 32,
     "metadata": {},
     "output_type": "execute_result"
    }
   ],
   "source": [
    "gmm_params.shape, gmm_params.columns.values"
   ]
  },
  {
   "cell_type": "markdown",
   "metadata": {},
   "source": [
    "### 2. Normalize GMM surface brightness into PDF"
   ]
  },
  {
   "cell_type": "code",
   "execution_count": 42,
   "metadata": {},
   "outputs": [],
   "source": [
    "def normalize_gmm(gmm_params):\n",
    "    \"\"\"Normalizes the per-band fluxes of the 18 Gaussian components\n",
    "    so that they add to 1\n",
    "    \"\"\"\n",
    "    # Weights are same across bands, since bulge-to-disk ratio is same\n",
    "    flux_in_r = gmm_params['flux_r'].values\n",
    "    total_flux_in_r = np.sum(flux_in_r)\n",
    "    weight = flux_in_r/total_flux_in_r\n",
    "    assert np.isclose([np.sum(weight)], [1.0])\n",
    "    return weight"
   ]
  },
  {
   "cell_type": "code",
   "execution_count": 43,
   "metadata": {},
   "outputs": [],
   "source": [
    "weight = normalize_gmm(gmm_params)"
   ]
  },
  {
   "cell_type": "markdown",
   "metadata": {},
   "source": [
    "### 3. Sample from GMM PDF"
   ]
  },
  {
   "cell_type": "code",
   "execution_count": 80,
   "metadata": {},
   "outputs": [],
   "source": [
    "def sample_radec_from_gmm(gmm_params, num_samples=1):\n",
    "    \"\"\" Samples ra, dec from given GMM PDF\n",
    "    \"\"\"\n",
    "    num_gaussians, _ = gmm_params.shape\n",
    "    probs = normalize_gmm(gmm_params)\n",
    "    \n",
    "    # Initialize sample array\n",
    "    samples = np.empty([num_samples, 2])\n",
    "    for sample_idx in range(num_samples):\n",
    "        # Categorical pick of Gaussian component among num_components\n",
    "        which_gaussian_idx = np.random.choice(num_gaussians, size=None, p=probs)\n",
    "        which_gaussian = gmm_params.iloc[which_gaussian_idx]\n",
    "        # Sample from picked Gaussian\n",
    "        samples[sample_idx, :] = mog_utils.sample_from_chosen_gaussian(which_gaussian)\n",
    "    # Add central ra, dec\n",
    "    zeropoint_ra = gmm_params.iloc[0]['ra']\n",
    "    zeropoint_dec = gmm_params.iloc[0]['dec']\n",
    "    samples[:, 0] += zeropoint_ra\n",
    "    samples[:, 1] += zeropoint_dec\n",
    "    return samples, zeropoint_ra, zeropoint_dec"
   ]
  },
  {
   "cell_type": "code",
   "execution_count": 97,
   "metadata": {},
   "outputs": [],
   "source": [
    "# Takes ~10s per galaxy\n",
    "test_num_samples = 10000\n",
    "samples, ra_0, dec_0 = sample_radec_from_gmm(gmm_params, num_samples=test_num_samples)"
   ]
  },
  {
   "cell_type": "markdown",
   "metadata": {},
   "source": [
    "### 4. Visualize\n",
    "Sersic has a very cuspy center so we'll need many samples to recover the original profile. For visualization, log scale is best."
   ]
  },
  {
   "cell_type": "code",
   "execution_count": 101,
   "metadata": {},
   "outputs": [
    {
     "data": {
      "text/plain": [
       "<matplotlib.colorbar.Colorbar at 0x2aaaeb48a6d8>"
      ]
     },
     "execution_count": 101,
     "metadata": {},
     "output_type": "execute_result"
    },
    {
     "data": {
      "image/png": "[encoded data removed]",
      "text/plain": [
       "<Figure size 432x288 with 2 Axes>"
      ]
     },
     "metadata": {
      "needs_background": "light"
     },
     "output_type": "display_data"
    }
   ],
   "source": [
    "sampled_ra = samples[:, 0]\n",
    "sampled_dec = samples[:, 1]\n",
    "num_bins = 64\n",
    "radius = 1.0 # arcsec\n",
    "around_center = [[ra_0 - radius, ra_0 + radius], [dec_0 - radius, dec_0 + radius]]\n",
    "_ = plt.hist2d(sampled_ra, sampled_dec, bins=(num_bins, num_bins), range=around_center,\n",
    "               weights=np.ones(test_num_samples)/test_num_samples)\n",
    "               #norm=mpl.colors.LogNorm(),)#, cmap=mpl.cm.gray)\n",
    "plt.colorbar()"
   ]
  },
  {
   "cell_type": "markdown",
   "metadata": {},
   "source": [
    "Compare with input Gaussian mixture PDF"
   ]
  },
  {
   "cell_type": "code",
   "execution_count": null,
   "metadata": {},
   "outputs": [],
   "source": [
    "# TODO\n",
    "# Make GMM in astropy\n",
    "# Render PDF as image"
   ]
  }
 ],
 "metadata": {
  "kernelspec": {
   "display_name": "desc-stack",
   "language": "python",
   "name": "desc-stack"
  },
  "language_info": {
   "codemirror_mode": {
    "name": "ipython",
    "version": 3
   },
   "file_extension": ".py",
   "mimetype": "text/x-python",
   "name": "python",
   "nbconvert_exporter": "python",
   "pygments_lexer": "ipython3",
   "version": "3.6.6"
  }
 },
 "nbformat": 4,
 "nbformat_minor": 2
}
